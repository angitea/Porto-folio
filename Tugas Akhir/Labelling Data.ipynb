{
  "nbformat": 4,
  "nbformat_minor": 0,
  "metadata": {
    "colab": {
      "provenance": []
    },
    "kernelspec": {
      "name": "python3",
      "display_name": "Python 3"
    },
    "language_info": {
      "name": "python"
    }
  },
  "cells": [
    {
      "cell_type": "markdown",
      "source": [
        "# NORMALISASI "
      ],
      "metadata": {
        "id": "zAzO365dwXRx"
      }
    },
    {
      "cell_type": "code",
      "source": [
        " pip install PySastrawi"
      ],
      "metadata": {
        "colab": {
          "base_uri": "https://localhost:8080/"
        },
        "id": "PX6FDHvyzis3",
        "outputId": "6b31f5a9-d6ff-45ee-97c9-07b9f383b9f5"
      },
      "execution_count": null,
      "outputs": [
        {
          "output_type": "stream",
          "name": "stdout",
          "text": [
            "Looking in indexes: https://pypi.org/simple, https://us-python.pkg.dev/colab-wheels/public/simple/\n",
            "Requirement already satisfied: PySastrawi in /usr/local/lib/python3.7/dist-packages (1.2.0)\n"
          ]
        }
      ]
    },
    {
      "cell_type": "code",
      "source": [
        "import pandas as pd\n",
        "from Sastrawi.Stemmer.StemmerFactory import StemmerFactory\n",
        "from nltk.tokenize import word_tokenize\n",
        "from nltk.tokenize import sent_tokenize\n",
        "from nltk.corpus import stopwords\n",
        "\n",
        "import numpy as np \n",
        "from math import log "
      ],
      "metadata": {
        "id": "kttR-mhaxCli"
      },
      "execution_count": null,
      "outputs": []
    },
    {
      "cell_type": "code",
      "source": [
        "import nltk\n",
        "nltk.download('punkt')"
      ],
      "metadata": {
        "colab": {
          "base_uri": "https://localhost:8080/"
        },
        "id": "v2gCr5emxIwt",
        "outputId": "66a21086-ce6c-474f-da84-cf6e151a5e3d"
      },
      "execution_count": null,
      "outputs": [
        {
          "output_type": "stream",
          "name": "stderr",
          "text": [
            "[nltk_data] Downloading package punkt to /root/nltk_data...\n",
            "[nltk_data]   Package punkt is already up-to-date!\n"
          ]
        },
        {
          "output_type": "execute_result",
          "data": {
            "text/plain": [
              "True"
            ]
          },
          "metadata": {},
          "execution_count": 3
        }
      ]
    },
    {
      "cell_type": "code",
      "source": [
        "#Data tweet\n",
        "tweet = pd.read_csv('BesokSenin Tugas.csv', encoding='utf-8')"
      ],
      "metadata": {
        "id": "JpyH5R_gxLQd"
      },
      "execution_count": null,
      "outputs": []
    },
    {
      "cell_type": "code",
      "source": [
        "tweet"
      ],
      "metadata": {
        "colab": {
          "base_uri": "https://localhost:8080/",
          "height": 424
        },
        "id": "A8uvyjCW5sIY",
        "outputId": "2e4b2b0a-cce8-4f13-8602-5b06f72877b7"
      },
      "execution_count": null,
      "outputs": [
        {
          "output_type": "execute_result",
          "data": {
            "text/plain": [
              "     Unnamed: 0        Date       Username      User ID  \\\n",
              "0             0  2022-03-06  crushercircle  1,50051E+18   \n",
              "1             1  2022-02-13  crushercircle  1,49285E+18   \n",
              "2             2  2022-01-16       Dildil88  1,48277E+18   \n",
              "3             3  2022-01-16      CArdilova  1,48269E+18   \n",
              "4             4  2022-01-09       JoInRi18  1,48022E+18   \n",
              "..          ...         ...            ...          ...   \n",
              "379         379  2020-01-05       abagrego   1,2138E+18   \n",
              "380         380  2020-01-05        Irgsyhs  1,21376E+18   \n",
              "381         381  2020-01-05      Rupanya10  1,21369E+18   \n",
              "382         382  2020-01-05   todayis_suga  1,21369E+18   \n",
              "383         383  2020-01-05    beneranjadi  1,21364E+18   \n",
              "\n",
              "                                                 Tweet  \n",
              "0                             tugas!!!...\\n#BesokSenin  \n",
              "1    awali hari dengan senin, tugas numpuk \\n#Besok...  \n",
              "2    \"Pengen jadi istri tugasnya dirumah, ngk mesti...  \n",
              "3                   beban tugas menanti 😍\\n#besoksenin  \n",
              "4    Besok senin, hari pertama sekolah akan dimulai...  \n",
              "..                                                 ...  \n",
              "379  Bsok Senin siap\" di kasi tugas sama di marahin...  \n",
              "380  Bukannya gue gak mau ke sekolah, tapi gue male...  \n",
              "381  #BesokSenin \\nRupanya besok senin kuliah diawa...  \n",
              "382  Besok Senin, besok senin, besok Senin, besok S...  \n",
              "383  Nikmatilah masa masa liburanmu, sebelum tugas ...  \n",
              "\n",
              "[384 rows x 5 columns]"
            ],
            "text/html": [
              "\n",
              "  <div id=\"df-753ed7dc-61c4-4e82-9801-1c967b263b7b\">\n",
              "    <div class=\"colab-df-container\">\n",
              "      <div>\n",
              "<style scoped>\n",
              "    .dataframe tbody tr th:only-of-type {\n",
              "        vertical-align: middle;\n",
              "    }\n",
              "\n",
              "    .dataframe tbody tr th {\n",
              "        vertical-align: top;\n",
              "    }\n",
              "\n",
              "    .dataframe thead th {\n",
              "        text-align: right;\n",
              "    }\n",
              "</style>\n",
              "<table border=\"1\" class=\"dataframe\">\n",
              "  <thead>\n",
              "    <tr style=\"text-align: right;\">\n",
              "      <th></th>\n",
              "      <th>Unnamed: 0</th>\n",
              "      <th>Date</th>\n",
              "      <th>Username</th>\n",
              "      <th>User ID</th>\n",
              "      <th>Tweet</th>\n",
              "    </tr>\n",
              "  </thead>\n",
              "  <tbody>\n",
              "    <tr>\n",
              "      <th>0</th>\n",
              "      <td>0</td>\n",
              "      <td>2022-03-06</td>\n",
              "      <td>crushercircle</td>\n",
              "      <td>1,50051E+18</td>\n",
              "      <td>tugas!!!...\\n#BesokSenin</td>\n",
              "    </tr>\n",
              "    <tr>\n",
              "      <th>1</th>\n",
              "      <td>1</td>\n",
              "      <td>2022-02-13</td>\n",
              "      <td>crushercircle</td>\n",
              "      <td>1,49285E+18</td>\n",
              "      <td>awali hari dengan senin, tugas numpuk \\n#Besok...</td>\n",
              "    </tr>\n",
              "    <tr>\n",
              "      <th>2</th>\n",
              "      <td>2</td>\n",
              "      <td>2022-01-16</td>\n",
              "      <td>Dildil88</td>\n",
              "      <td>1,48277E+18</td>\n",
              "      <td>\"Pengen jadi istri tugasnya dirumah, ngk mesti...</td>\n",
              "    </tr>\n",
              "    <tr>\n",
              "      <th>3</th>\n",
              "      <td>3</td>\n",
              "      <td>2022-01-16</td>\n",
              "      <td>CArdilova</td>\n",
              "      <td>1,48269E+18</td>\n",
              "      <td>beban tugas menanti 😍\\n#besoksenin</td>\n",
              "    </tr>\n",
              "    <tr>\n",
              "      <th>4</th>\n",
              "      <td>4</td>\n",
              "      <td>2022-01-09</td>\n",
              "      <td>JoInRi18</td>\n",
              "      <td>1,48022E+18</td>\n",
              "      <td>Besok senin, hari pertama sekolah akan dimulai...</td>\n",
              "    </tr>\n",
              "    <tr>\n",
              "      <th>...</th>\n",
              "      <td>...</td>\n",
              "      <td>...</td>\n",
              "      <td>...</td>\n",
              "      <td>...</td>\n",
              "      <td>...</td>\n",
              "    </tr>\n",
              "    <tr>\n",
              "      <th>379</th>\n",
              "      <td>379</td>\n",
              "      <td>2020-01-05</td>\n",
              "      <td>abagrego</td>\n",
              "      <td>1,2138E+18</td>\n",
              "      <td>Bsok Senin siap\" di kasi tugas sama di marahin...</td>\n",
              "    </tr>\n",
              "    <tr>\n",
              "      <th>380</th>\n",
              "      <td>380</td>\n",
              "      <td>2020-01-05</td>\n",
              "      <td>Irgsyhs</td>\n",
              "      <td>1,21376E+18</td>\n",
              "      <td>Bukannya gue gak mau ke sekolah, tapi gue male...</td>\n",
              "    </tr>\n",
              "    <tr>\n",
              "      <th>381</th>\n",
              "      <td>381</td>\n",
              "      <td>2020-01-05</td>\n",
              "      <td>Rupanya10</td>\n",
              "      <td>1,21369E+18</td>\n",
              "      <td>#BesokSenin \\nRupanya besok senin kuliah diawa...</td>\n",
              "    </tr>\n",
              "    <tr>\n",
              "      <th>382</th>\n",
              "      <td>382</td>\n",
              "      <td>2020-01-05</td>\n",
              "      <td>todayis_suga</td>\n",
              "      <td>1,21369E+18</td>\n",
              "      <td>Besok Senin, besok senin, besok Senin, besok S...</td>\n",
              "    </tr>\n",
              "    <tr>\n",
              "      <th>383</th>\n",
              "      <td>383</td>\n",
              "      <td>2020-01-05</td>\n",
              "      <td>beneranjadi</td>\n",
              "      <td>1,21364E+18</td>\n",
              "      <td>Nikmatilah masa masa liburanmu, sebelum tugas ...</td>\n",
              "    </tr>\n",
              "  </tbody>\n",
              "</table>\n",
              "<p>384 rows × 5 columns</p>\n",
              "</div>\n",
              "      <button class=\"colab-df-convert\" onclick=\"convertToInteractive('df-753ed7dc-61c4-4e82-9801-1c967b263b7b')\"\n",
              "              title=\"Convert this dataframe to an interactive table.\"\n",
              "              style=\"display:none;\">\n",
              "        \n",
              "  <svg xmlns=\"http://www.w3.org/2000/svg\" height=\"24px\"viewBox=\"0 0 24 24\"\n",
              "       width=\"24px\">\n",
              "    <path d=\"M0 0h24v24H0V0z\" fill=\"none\"/>\n",
              "    <path d=\"M18.56 5.44l.94 2.06.94-2.06 2.06-.94-2.06-.94-.94-2.06-.94 2.06-2.06.94zm-11 1L8.5 8.5l.94-2.06 2.06-.94-2.06-.94L8.5 2.5l-.94 2.06-2.06.94zm10 10l.94 2.06.94-2.06 2.06-.94-2.06-.94-.94-2.06-.94 2.06-2.06.94z\"/><path d=\"M17.41 7.96l-1.37-1.37c-.4-.4-.92-.59-1.43-.59-.52 0-1.04.2-1.43.59L10.3 9.45l-7.72 7.72c-.78.78-.78 2.05 0 2.83L4 21.41c.39.39.9.59 1.41.59.51 0 1.02-.2 1.41-.59l7.78-7.78 2.81-2.81c.8-.78.8-2.07 0-2.86zM5.41 20L4 18.59l7.72-7.72 1.47 1.35L5.41 20z\"/>\n",
              "  </svg>\n",
              "      </button>\n",
              "      \n",
              "  <style>\n",
              "    .colab-df-container {\n",
              "      display:flex;\n",
              "      flex-wrap:wrap;\n",
              "      gap: 12px;\n",
              "    }\n",
              "\n",
              "    .colab-df-convert {\n",
              "      background-color: #E8F0FE;\n",
              "      border: none;\n",
              "      border-radius: 50%;\n",
              "      cursor: pointer;\n",
              "      display: none;\n",
              "      fill: #1967D2;\n",
              "      height: 32px;\n",
              "      padding: 0 0 0 0;\n",
              "      width: 32px;\n",
              "    }\n",
              "\n",
              "    .colab-df-convert:hover {\n",
              "      background-color: #E2EBFA;\n",
              "      box-shadow: 0px 1px 2px rgba(60, 64, 67, 0.3), 0px 1px 3px 1px rgba(60, 64, 67, 0.15);\n",
              "      fill: #174EA6;\n",
              "    }\n",
              "\n",
              "    [theme=dark] .colab-df-convert {\n",
              "      background-color: #3B4455;\n",
              "      fill: #D2E3FC;\n",
              "    }\n",
              "\n",
              "    [theme=dark] .colab-df-convert:hover {\n",
              "      background-color: #434B5C;\n",
              "      box-shadow: 0px 1px 3px 1px rgba(0, 0, 0, 0.15);\n",
              "      filter: drop-shadow(0px 1px 2px rgba(0, 0, 0, 0.3));\n",
              "      fill: #FFFFFF;\n",
              "    }\n",
              "  </style>\n",
              "\n",
              "      <script>\n",
              "        const buttonEl =\n",
              "          document.querySelector('#df-753ed7dc-61c4-4e82-9801-1c967b263b7b button.colab-df-convert');\n",
              "        buttonEl.style.display =\n",
              "          google.colab.kernel.accessAllowed ? 'block' : 'none';\n",
              "\n",
              "        async function convertToInteractive(key) {\n",
              "          const element = document.querySelector('#df-753ed7dc-61c4-4e82-9801-1c967b263b7b');\n",
              "          const dataTable =\n",
              "            await google.colab.kernel.invokeFunction('convertToInteractive',\n",
              "                                                     [key], {});\n",
              "          if (!dataTable) return;\n",
              "\n",
              "          const docLinkHtml = 'Like what you see? Visit the ' +\n",
              "            '<a target=\"_blank\" href=https://colab.research.google.com/notebooks/data_table.ipynb>data table notebook</a>'\n",
              "            + ' to learn more about interactive tables.';\n",
              "          element.innerHTML = '';\n",
              "          dataTable['output_type'] = 'display_data';\n",
              "          await google.colab.output.renderOutput(dataTable, element);\n",
              "          const docLink = document.createElement('div');\n",
              "          docLink.innerHTML = docLinkHtml;\n",
              "          element.appendChild(docLink);\n",
              "        }\n",
              "      </script>\n",
              "    </div>\n",
              "  </div>\n",
              "  "
            ]
          },
          "metadata": {},
          "execution_count": 5
        }
      ]
    },
    {
      "cell_type": "code",
      "source": [
        "tweet_lower = tweet['Tweet'].str.lower()"
      ],
      "metadata": {
        "id": "0kueKyM_xfHw"
      },
      "execution_count": null,
      "outputs": []
    },
    {
      "cell_type": "code",
      "source": [
        "tweet_lower"
      ],
      "metadata": {
        "id": "NsSoRy_Pz1ch",
        "colab": {
          "base_uri": "https://localhost:8080/"
        },
        "outputId": "410ba5df-5f74-44c9-9a13-c245d0d03979"
      },
      "execution_count": null,
      "outputs": [
        {
          "output_type": "execute_result",
          "data": {
            "text/plain": [
              "0                               tugas!!!...\\n#besoksenin\n",
              "1      awali hari dengan senin, tugas numpuk \\n#besok...\n",
              "2      \"pengen jadi istri tugasnya dirumah, ngk mesti...\n",
              "3                     beban tugas menanti 😍\\n#besoksenin\n",
              "4      besok senin, hari pertama sekolah akan dimulai...\n",
              "                             ...                        \n",
              "379    bsok senin siap\" di kasi tugas sama di marahin...\n",
              "380    bukannya gue gak mau ke sekolah, tapi gue male...\n",
              "381    #besoksenin \\nrupanya besok senin kuliah diawa...\n",
              "382    besok senin, besok senin, besok senin, besok s...\n",
              "383    nikmatilah masa masa liburanmu, sebelum tugas ...\n",
              "Name: Tweet, Length: 384, dtype: object"
            ]
          },
          "metadata": {},
          "execution_count": 7
        }
      ]
    },
    {
      "cell_type": "code",
      "source": [
        "#Tokenizing\n",
        "tweet_token = []\n",
        "\n",
        "for doc in tweet_lower :\n",
        "  tweet_token.append(word_tokenize(doc))"
      ],
      "metadata": {
        "id": "7vpo0weM6FNg"
      },
      "execution_count": null,
      "outputs": []
    },
    {
      "cell_type": "code",
      "source": [
        "tweet_token"
      ],
      "metadata": {
        "id": "5PcVe9lG6HZ1"
      },
      "execution_count": null,
      "outputs": []
    },
    {
      "cell_type": "code",
      "source": [
        "def normalization(tokens) :\n",
        "  kamus = {}\n",
        "  with open('Kamus.txt') as kamus_normalisasi :\n",
        "    for line in kamus_normalisasi :\n",
        "      (key, val) = line.split(\"\\t\")\n",
        "      kamus[key] = val\n",
        "  tweet_normalization = []\n",
        "  for word in tokens:\n",
        "    if word in kamus :\n",
        "      replace = kamus.get(word)\n",
        "      tweet_normalization.append(replace.strip())\n",
        "    else:\n",
        "      tweet_normalization.append(word)\n",
        "  return tweet_normalization"
      ],
      "metadata": {
        "id": "dbAX4rRg6Pjf"
      },
      "execution_count": null,
      "outputs": []
    },
    {
      "cell_type": "code",
      "source": [
        "#Normalization\n",
        "tweet_norm = []\n",
        "\n",
        "for doc in tweet_token:\n",
        "  tweet_norm.append(normalization(doc))"
      ],
      "metadata": {
        "id": "sZy9PnEA-785"
      },
      "execution_count": null,
      "outputs": []
    },
    {
      "cell_type": "code",
      "source": [
        "tweet_norm"
      ],
      "metadata": {
        "id": "Qipg4zkF6XfJ"
      },
      "execution_count": null,
      "outputs": []
    },
    {
      "cell_type": "code",
      "source": [
        "new = []\n",
        "temp_stop = ''\n",
        "for i in range(len(tweet_norm)):\n",
        "  for token in tweet_norm[i]:\n",
        "      temp_stop = temp_stop + token + ' '\n",
        "  new.append(temp_stop)\n",
        "  temp_stop = ''"
      ],
      "metadata": {
        "id": "ZX4Q6uSQ5ccw"
      },
      "execution_count": null,
      "outputs": []
    },
    {
      "cell_type": "code",
      "source": [
        "new"
      ],
      "metadata": {
        "id": "R975yHiEcsv1"
      },
      "execution_count": null,
      "outputs": []
    },
    {
      "cell_type": "code",
      "source": [
        "hasil = pd.DataFrame(new)"
      ],
      "metadata": {
        "id": "jestA5pTc3mF"
      },
      "execution_count": null,
      "outputs": []
    },
    {
      "cell_type": "code",
      "source": [
        "hasil"
      ],
      "metadata": {
        "id": "VjGa3yzWc6gM"
      },
      "execution_count": null,
      "outputs": []
    },
    {
      "cell_type": "code",
      "source": [
        "hasil.set_axis(['Tweet'], axis='columns', inplace=True)"
      ],
      "metadata": {
        "id": "rkE1Oavvc-VZ"
      },
      "execution_count": null,
      "outputs": []
    },
    {
      "cell_type": "code",
      "source": [
        "hasil"
      ],
      "metadata": {
        "id": "vSSupUO2dCY5"
      },
      "execution_count": null,
      "outputs": []
    },
    {
      "cell_type": "code",
      "source": [
        "hasil['Tweet'].to_excel('normalisasi tugas.xlsx', index=False)"
      ],
      "metadata": {
        "id": "Hy37wf4ndHVp"
      },
      "execution_count": null,
      "outputs": []
    },
    {
      "cell_type": "markdown",
      "source": [
        "# LABELLING"
      ],
      "metadata": {
        "id": "ei2i_9TihroU"
      }
    },
    {
      "cell_type": "code",
      "source": [
        "pip install vaderSentiment"
      ],
      "metadata": {
        "id": "UB6dryXFHZmk",
        "colab": {
          "base_uri": "https://localhost:8080/"
        },
        "outputId": "271e71b4-28fe-4025-bb50-593cedfdef59"
      },
      "execution_count": null,
      "outputs": [
        {
          "output_type": "stream",
          "name": "stdout",
          "text": [
            "Looking in indexes: https://pypi.org/simple, https://us-python.pkg.dev/colab-wheels/public/simple/\n",
            "Requirement already satisfied: vaderSentiment in /usr/local/lib/python3.7/dist-packages (3.3.2)\n",
            "Requirement already satisfied: requests in /usr/local/lib/python3.7/dist-packages (from vaderSentiment) (2.23.0)\n",
            "Requirement already satisfied: urllib3!=1.25.0,!=1.25.1,<1.26,>=1.21.1 in /usr/local/lib/python3.7/dist-packages (from requests->vaderSentiment) (1.24.3)\n",
            "Requirement already satisfied: certifi>=2017.4.17 in /usr/local/lib/python3.7/dist-packages (from requests->vaderSentiment) (2022.9.24)\n",
            "Requirement already satisfied: idna<3,>=2.5 in /usr/local/lib/python3.7/dist-packages (from requests->vaderSentiment) (2.10)\n",
            "Requirement already satisfied: chardet<4,>=3.0.2 in /usr/local/lib/python3.7/dist-packages (from requests->vaderSentiment) (3.0.4)\n"
          ]
        }
      ]
    },
    {
      "cell_type": "code",
      "source": [
        "import nltk\n",
        "import pandas as pd\n",
        "nltk.download('vader_lexicon')\n",
        "from nltk.sentiment.vader import SentimentIntensityAnalyzer"
      ],
      "metadata": {
        "id": "U-Qh1YHvPFgp",
        "colab": {
          "base_uri": "https://localhost:8080/"
        },
        "outputId": "0cd3c5f2-d4bd-4d3b-a2c1-563c34ac3684"
      },
      "execution_count": null,
      "outputs": [
        {
          "output_type": "stream",
          "name": "stderr",
          "text": [
            "[nltk_data] Downloading package vader_lexicon to /root/nltk_data...\n",
            "[nltk_data]   Package vader_lexicon is already up-to-date!\n"
          ]
        }
      ]
    },
    {
      "cell_type": "code",
      "source": [
        "# creating object of SentimentIntensityAnalyzer\n",
        "sid = SentimentIntensityAnalyzer()"
      ],
      "metadata": {
        "id": "NZCS_vuBPQjK"
      },
      "execution_count": null,
      "outputs": []
    },
    {
      "cell_type": "code",
      "source": [
        "sentence = pd.read_csv('translate tugas.csv')"
      ],
      "metadata": {
        "id": "-EXB8QyAPSaf"
      },
      "execution_count": null,
      "outputs": []
    },
    {
      "cell_type": "code",
      "source": [
        "sentence.dropna(inplace=True)"
      ],
      "metadata": {
        "id": "Lj2E0lPrPgfm"
      },
      "execution_count": null,
      "outputs": []
    },
    {
      "cell_type": "code",
      "source": [
        "# collecting blank tweet from data frame\n",
        "blanks = []\n",
        "for lb,rv in sentence.itertuples():\n",
        "    if type(rv) == str:\n",
        "        if rv.isspace():\n",
        "            blanks.append(lb)"
      ],
      "metadata": {
        "id": "mklG2GMqPlKz"
      },
      "execution_count": null,
      "outputs": []
    },
    {
      "cell_type": "code",
      "source": [
        "blanks "
      ],
      "metadata": {
        "id": "Jd1zLDv7Pp15",
        "colab": {
          "base_uri": "https://localhost:8080/"
        },
        "outputId": "94ac0b71-999e-4472-fd8f-f2484ebe52b0"
      },
      "execution_count": null,
      "outputs": [
        {
          "output_type": "execute_result",
          "data": {
            "text/plain": [
              "[]"
            ]
          },
          "metadata": {},
          "execution_count": 27
        }
      ]
    },
    {
      "cell_type": "code",
      "source": [
        "# creating object of SentimentIntensityAnalyzer\n",
        "sid = SentimentIntensityAnalyzer()\n",
        "sid.polarity_scores(sentence.iloc[0]['Tweet'])\n",
        "sentence['label'] = sentence['compound'].apply(lambda score: '1' if score > 0 else '-1')"
      ],
      "metadata": {
        "id": "KR108Ry2PrUz"
      },
      "execution_count": null,
      "outputs": []
    },
    {
      "cell_type": "code",
      "source": [
        "sentence['scores'] = sentence['Normalisasi'].apply(lambda review:sid.polarity_scores(review))"
      ],
      "metadata": {
        "id": "N2LQpYucP3vP"
      },
      "execution_count": null,
      "outputs": []
    },
    {
      "cell_type": "code",
      "source": [
        "sentence['scores'] = sentence['Tweet'].apply(lambda review:sid.polarity_scores(review))\n",
        "sentence.head()"
      ],
      "metadata": {
        "id": "9eF6qC6DQA89"
      },
      "execution_count": null,
      "outputs": []
    },
    {
      "cell_type": "code",
      "source": [
        "sentence['compound'] = sentence['scores'].apply(lambda d:d['compound'])\n",
        "sentence.head()"
      ],
      "metadata": {
        "id": "5kk71cH7QNFu",
        "colab": {
          "base_uri": "https://localhost:8080/",
          "height": 206
        },
        "outputId": "31f0f27f-579a-4a77-eb92-f44043637ac2"
      },
      "execution_count": null,
      "outputs": [
        {
          "output_type": "execute_result",
          "data": {
            "text/plain": [
              "                                               Tweet  \\\n",
              "0                          Duty ! ! ! ... # tomorrow   \n",
              "1  Monday starts the day with Monday, tasks pile ...   \n",
              "2  `` want to be a wife, his job is at home, you ...   \n",
              "3            the workload waiting for 😍 #tomorrow is   \n",
              "4  monday tomorrow, the first day of school will ...   \n",
              "\n",
              "                                              scores  compound  \n",
              "0  {'neg': 0.0, 'neu': 1.0, 'pos': 0.0, 'compound...    0.0000  \n",
              "1  {'neg': 0.0, 'neu': 1.0, 'pos': 0.0, 'compound...    0.0000  \n",
              "2  {'neg': 0.057, 'neu': 0.877, 'pos': 0.066, 'co...   -0.0900  \n",
              "3  {'neg': 0.0, 'neu': 1.0, 'pos': 0.0, 'compound...    0.0000  \n",
              "4  {'neg': 0.0, 'neu': 0.915, 'pos': 0.085, 'comp...    0.0772  "
            ],
            "text/html": [
              "\n",
              "  <div id=\"df-8fbba302-6575-41ee-ae15-547ea5315432\">\n",
              "    <div class=\"colab-df-container\">\n",
              "      <div>\n",
              "<style scoped>\n",
              "    .dataframe tbody tr th:only-of-type {\n",
              "        vertical-align: middle;\n",
              "    }\n",
              "\n",
              "    .dataframe tbody tr th {\n",
              "        vertical-align: top;\n",
              "    }\n",
              "\n",
              "    .dataframe thead th {\n",
              "        text-align: right;\n",
              "    }\n",
              "</style>\n",
              "<table border=\"1\" class=\"dataframe\">\n",
              "  <thead>\n",
              "    <tr style=\"text-align: right;\">\n",
              "      <th></th>\n",
              "      <th>Tweet</th>\n",
              "      <th>scores</th>\n",
              "      <th>compound</th>\n",
              "    </tr>\n",
              "  </thead>\n",
              "  <tbody>\n",
              "    <tr>\n",
              "      <th>0</th>\n",
              "      <td>Duty ! ! ! ... # tomorrow</td>\n",
              "      <td>{'neg': 0.0, 'neu': 1.0, 'pos': 0.0, 'compound...</td>\n",
              "      <td>0.0000</td>\n",
              "    </tr>\n",
              "    <tr>\n",
              "      <th>1</th>\n",
              "      <td>Monday starts the day with Monday, tasks pile ...</td>\n",
              "      <td>{'neg': 0.0, 'neu': 1.0, 'pos': 0.0, 'compound...</td>\n",
              "      <td>0.0000</td>\n",
              "    </tr>\n",
              "    <tr>\n",
              "      <th>2</th>\n",
              "      <td>`` want to be a wife, his job is at home, you ...</td>\n",
              "      <td>{'neg': 0.057, 'neu': 0.877, 'pos': 0.066, 'co...</td>\n",
              "      <td>-0.0900</td>\n",
              "    </tr>\n",
              "    <tr>\n",
              "      <th>3</th>\n",
              "      <td>the workload waiting for 😍 #tomorrow is</td>\n",
              "      <td>{'neg': 0.0, 'neu': 1.0, 'pos': 0.0, 'compound...</td>\n",
              "      <td>0.0000</td>\n",
              "    </tr>\n",
              "    <tr>\n",
              "      <th>4</th>\n",
              "      <td>monday tomorrow, the first day of school will ...</td>\n",
              "      <td>{'neg': 0.0, 'neu': 0.915, 'pos': 0.085, 'comp...</td>\n",
              "      <td>0.0772</td>\n",
              "    </tr>\n",
              "  </tbody>\n",
              "</table>\n",
              "</div>\n",
              "      <button class=\"colab-df-convert\" onclick=\"convertToInteractive('df-8fbba302-6575-41ee-ae15-547ea5315432')\"\n",
              "              title=\"Convert this dataframe to an interactive table.\"\n",
              "              style=\"display:none;\">\n",
              "        \n",
              "  <svg xmlns=\"http://www.w3.org/2000/svg\" height=\"24px\"viewBox=\"0 0 24 24\"\n",
              "       width=\"24px\">\n",
              "    <path d=\"M0 0h24v24H0V0z\" fill=\"none\"/>\n",
              "    <path d=\"M18.56 5.44l.94 2.06.94-2.06 2.06-.94-2.06-.94-.94-2.06-.94 2.06-2.06.94zm-11 1L8.5 8.5l.94-2.06 2.06-.94-2.06-.94L8.5 2.5l-.94 2.06-2.06.94zm10 10l.94 2.06.94-2.06 2.06-.94-2.06-.94-.94-2.06-.94 2.06-2.06.94z\"/><path d=\"M17.41 7.96l-1.37-1.37c-.4-.4-.92-.59-1.43-.59-.52 0-1.04.2-1.43.59L10.3 9.45l-7.72 7.72c-.78.78-.78 2.05 0 2.83L4 21.41c.39.39.9.59 1.41.59.51 0 1.02-.2 1.41-.59l7.78-7.78 2.81-2.81c.8-.78.8-2.07 0-2.86zM5.41 20L4 18.59l7.72-7.72 1.47 1.35L5.41 20z\"/>\n",
              "  </svg>\n",
              "      </button>\n",
              "      \n",
              "  <style>\n",
              "    .colab-df-container {\n",
              "      display:flex;\n",
              "      flex-wrap:wrap;\n",
              "      gap: 12px;\n",
              "    }\n",
              "\n",
              "    .colab-df-convert {\n",
              "      background-color: #E8F0FE;\n",
              "      border: none;\n",
              "      border-radius: 50%;\n",
              "      cursor: pointer;\n",
              "      display: none;\n",
              "      fill: #1967D2;\n",
              "      height: 32px;\n",
              "      padding: 0 0 0 0;\n",
              "      width: 32px;\n",
              "    }\n",
              "\n",
              "    .colab-df-convert:hover {\n",
              "      background-color: #E2EBFA;\n",
              "      box-shadow: 0px 1px 2px rgba(60, 64, 67, 0.3), 0px 1px 3px 1px rgba(60, 64, 67, 0.15);\n",
              "      fill: #174EA6;\n",
              "    }\n",
              "\n",
              "    [theme=dark] .colab-df-convert {\n",
              "      background-color: #3B4455;\n",
              "      fill: #D2E3FC;\n",
              "    }\n",
              "\n",
              "    [theme=dark] .colab-df-convert:hover {\n",
              "      background-color: #434B5C;\n",
              "      box-shadow: 0px 1px 3px 1px rgba(0, 0, 0, 0.15);\n",
              "      filter: drop-shadow(0px 1px 2px rgba(0, 0, 0, 0.3));\n",
              "      fill: #FFFFFF;\n",
              "    }\n",
              "  </style>\n",
              "\n",
              "      <script>\n",
              "        const buttonEl =\n",
              "          document.querySelector('#df-8fbba302-6575-41ee-ae15-547ea5315432 button.colab-df-convert');\n",
              "        buttonEl.style.display =\n",
              "          google.colab.kernel.accessAllowed ? 'block' : 'none';\n",
              "\n",
              "        async function convertToInteractive(key) {\n",
              "          const element = document.querySelector('#df-8fbba302-6575-41ee-ae15-547ea5315432');\n",
              "          const dataTable =\n",
              "            await google.colab.kernel.invokeFunction('convertToInteractive',\n",
              "                                                     [key], {});\n",
              "          if (!dataTable) return;\n",
              "\n",
              "          const docLinkHtml = 'Like what you see? Visit the ' +\n",
              "            '<a target=\"_blank\" href=https://colab.research.google.com/notebooks/data_table.ipynb>data table notebook</a>'\n",
              "            + ' to learn more about interactive tables.';\n",
              "          element.innerHTML = '';\n",
              "          dataTable['output_type'] = 'display_data';\n",
              "          await google.colab.output.renderOutput(dataTable, element);\n",
              "          const docLink = document.createElement('div');\n",
              "          docLink.innerHTML = docLinkHtml;\n",
              "          element.appendChild(docLink);\n",
              "        }\n",
              "      </script>\n",
              "    </div>\n",
              "  </div>\n",
              "  "
            ]
          },
          "metadata": {},
          "execution_count": 31
        }
      ]
    },
    {
      "cell_type": "code",
      "source": [
        "sentence['score'] = sentence['compound'].apply(lambda score: 'pos' if score > 0 else 'neg')"
      ],
      "metadata": {
        "id": "jnkH81qNQjkm"
      },
      "execution_count": null,
      "outputs": []
    },
    {
      "cell_type": "code",
      "source": [
        "sentence['label'] = sentence['compound'].apply(lambda score: '1' if score > 0 else '-1')\n",
        "sentence"
      ],
      "metadata": {
        "id": "alPGDBYmwoVi"
      },
      "execution_count": null,
      "outputs": []
    },
    {
      "cell_type": "code",
      "source": [
        "# determining the name of the file\n",
        "file_name = 'Label Tugas.xlsx'\n",
        "  \n",
        "# saving the excel\n",
        "sentence.to_excel(file_name)"
      ],
      "metadata": {
        "id": "qGX_nGWVSRRN"
      },
      "execution_count": null,
      "outputs": []
    }
  ]
}