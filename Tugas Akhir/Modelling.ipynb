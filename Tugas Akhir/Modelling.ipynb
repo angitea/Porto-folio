{
  "cells": [
    {
      "cell_type": "code",
      "execution_count": null,
      "metadata": {
        "id": "CtA1MAwu4vuq"
      },
      "outputs": [],
      "source": [
        "import pandas as pd\n",
        "import numpy as np  \n",
        "from sklearn.svm import SVC  \n",
        "from sklearn.metrics import classification_report, confusion_matrix  \n",
        "import matplotlib.pyplot as plt\n",
        "%matplotlib inline"
      ]
    },
    {
      "cell_type": "markdown",
      "metadata": {
        "id": "uadlHlVGQx9m"
      },
      "source": [
        "Baca Data"
      ]
    },
    {
      "cell_type": "code",
      "execution_count": null,
      "metadata": {
        "id": "VxVwKzYC7qvD"
      },
      "outputs": [],
      "source": [
        "tweet = pd.read_csv('Hasil Preprocessing 2.csv')"
      ]
    },
    {
      "cell_type": "code",
      "execution_count": null,
      "metadata": {
        "id": "ZRpLRHAu0Gu3"
      },
      "outputs": [],
      "source": [
        "tweet"
      ]
    },
    {
      "cell_type": "code",
      "source": [
        "a = '1', '-1'\n",
        "b = tweet['Label'].value_counts()\n",
        "\n",
        "fig = plt.figure(figsize = (10, 5))\n",
        "\n",
        "# creating the bar plot\n",
        "plt.bar(a, b, color ='maroon',\n",
        "\t\twidth = 0.4)\n",
        "\n",
        "plt.xlabel(\"Sentimen\")\n",
        "plt.ylabel(\"Jumlah Tweet\")\n",
        "plt.title(\"Hasil Labelling Tweet\")\n",
        "plt.show()"
      ],
      "metadata": {
        "colab": {
          "base_uri": "https://localhost:8080/",
          "height": 350
        },
        "id": "cztFueZUQDBA",
        "outputId": "fe6ed27a-6235-44a4-8cc4-da066906e2d1"
      },
      "execution_count": null,
      "outputs": [
        {
          "output_type": "display_data",
          "data": {
            "text/plain": [
              "<Figure size 720x360 with 1 Axes>"
            ],
            "image/png": "[encoded data removed]"
          },
          "metadata": {
            "needs_background": "light"
          }
        }
      ]
    },
    {
      "cell_type": "code",
      "execution_count": null,
      "metadata": {
        "colab": {
          "base_uri": "https://localhost:8080/"
        },
        "id": "IVRMW8q_ulVZ",
        "outputId": "fd0b05f1-88d3-45e3-f101-90a63021e412"
      },
      "outputs": [
        {
          "output_type": "execute_result",
          "data": {
            "text/plain": [
              " 1    1455\n",
              "-1     671\n",
              "Name: Label, dtype: int64"
            ]
          },
          "metadata": {},
          "execution_count": 3
        }
      ],
      "source": [
        "tweet['Label'].value_counts()"
      ]
    },
    {
      "cell_type": "markdown",
      "metadata": {
        "id": "BdU30aTVQzU0"
      },
      "source": [
        "Pembagian Data "
      ]
    },
    {
      "cell_type": "code",
      "execution_count": null,
      "metadata": {
        "id": "q4aL462yPjw5"
      },
      "outputs": [],
      "source": [
        "from sklearn.model_selection import train_test_split"
      ]
    },
    {
      "cell_type": "code",
      "execution_count": null,
      "metadata": {
        "id": "DPOub7rf8POV"
      },
      "outputs": [],
      "source": [
        "X = tweet['Data']  \n",
        "y = tweet['Label']\n",
        "X_train, X_test, y_train, y_test = train_test_split(X, y, test_size = 0.20)"
      ]
    },
    {
      "cell_type": "markdown",
      "metadata": {
        "id": "moXei9njRtwr"
      },
      "source": [
        "Pembagian Data Menggunakan K-Fold"
      ]
    },
    {
      "cell_type": "code",
      "execution_count": null,
      "metadata": {
        "id": "0wOsEAH2ODxC"
      },
      "outputs": [],
      "source": [
        "from sklearn.model_selection import KFold # import KFold"
      ]
    },
    {
      "cell_type": "code",
      "execution_count": null,
      "metadata": {
        "id": "CGzJVpRGOHLM"
      },
      "outputs": [],
      "source": [
        "X = tweet['Data'] # create an array\n",
        "y = tweet['Label'] # Create another array"
      ]
    },
    {
      "cell_type": "code",
      "execution_count": null,
      "metadata": {
        "colab": {
          "base_uri": "https://localhost:8080/"
        },
        "id": "IzKNkGgsOO8C",
        "outputId": "25b9ee43-c107-4ba5-dda9-3b9b21d242e9"
      },
      "outputs": [
        {
          "output_type": "stream",
          "name": "stdout",
          "text": [
            "KFold(n_splits=11, random_state=7, shuffle=True)\n"
          ]
        }
      ],
      "source": [
        "kf = KFold(n_splits=11, random_state=7, shuffle=True) # Define the split - into 2 folds \n",
        "kf.get_n_splits(X) # returns the number of splitting iterations in the cross-validator\n",
        "print(kf) "
      ]
    },
    {
      "cell_type": "code",
      "execution_count": null,
      "metadata": {
        "id": "cAiN2ZJqOv7K"
      },
      "outputs": [],
      "source": [
        "for train_index, test_index in kf.split(X):\n",
        " print('Train:', train_index, 'Test:', test_index)\n",
        " X_train, X_test = X[train_index], X[test_index]\n",
        " y_train, y_test = y[train_index], y[test_index]"
      ]
    },
    {
      "cell_type": "markdown",
      "metadata": {
        "id": "Zt-b2KNbQ3_Q"
      },
      "source": [
        "Ekstrasi Fitur TF-IDF"
      ]
    },
    {
      "cell_type": "code",
      "execution_count": null,
      "metadata": {
        "id": "TLnMlM4kP1yb"
      },
      "outputs": [],
      "source": [
        "from sklearn.preprocessing import LabelEncoder"
      ]
    },
    {
      "cell_type": "code",
      "execution_count": null,
      "metadata": {
        "id": "0x6VS0B_POhZ"
      },
      "outputs": [],
      "source": [
        "Encoder = LabelEncoder()\n",
        "Train_Y = Encoder.fit_transform(y_train)\n",
        "Test_Y = Encoder.fit_transform(y_test)"
      ]
    },
    {
      "cell_type": "code",
      "execution_count": null,
      "metadata": {
        "id": "SfPpeGlyR8mp"
      },
      "outputs": [],
      "source": [
        "from sklearn.feature_extraction.text import TfidfVectorizer"
      ]
    },
    {
      "cell_type": "code",
      "execution_count": null,
      "metadata": {
        "id": "ewpRCbXdP8Rj"
      },
      "outputs": [],
      "source": [
        "Tfidf_vect = TfidfVectorizer(max_features=700)\n",
        "Tfidf_vect.fit(tweet['Data'])\n",
        "Train_X_Tfidf = Tfidf_vect.transform(X_train)\n",
        "Test_X_Tfidf = Tfidf_vect.transform(X_test)"
      ]
    },
    {
      "cell_type": "code",
      "execution_count": null,
      "metadata": {
        "id": "hf2kIlqJQDq4",
        "colab": {
          "base_uri": "https://localhost:8080/"
        },
        "outputId": "cecce844-0b65-4e6a-a38b-4f69c3ac076e"
      },
      "outputs": [
        {
          "output_type": "stream",
          "name": "stdout",
          "text": [
            "{'malas': 376, 'banget': 58, 'semangat': 559, 'sekolah': 553, 'kerja': 307, 'kuliah': 329, 'skripsi': 587, 'takut': 615, 'semenjak': 561, 'seram': 569, 'tidak': 636, 'tahu': 613, 'habis': 205, 'minggu': 409, 'tiba': 635, 'pikir': 494, 'uji': 664, 'gosok': 201, 'baju': 56, 'malam': 375, 'bisa': 94, 'bangun': 61, 'nonton': 449, 'libur': 353, 'sebentar': 547, 'teman': 625, 'nya': 453, 'jalan': 257, 'masuk': 390, 'alhamdulillah': 16, 'syukur': 610, 'selagi': 554, 'keluh': 299, 'orang': 467, 'putus': 510, 'selasa': 556, 'pesan': 493, 'jam': 259, 'beli': 78, 'sih': 581, 'deh': 143, 'iya': 249, 'allah': 18, 'rajin': 512, 'giat': 196, 'tangis': 621, 'pergi': 490, 'henti': 217, 'hati': 215, 'hancur': 210, 'depan': 145, 'jujur': 270, 'mah': 370, 'tatap': 623, 'muka': 419, 'biasa': 89, 'online': 466, 'bikin': 91, 'oh': 460, 'jaman': 260, 'tk': 643, 'beban': 72, 'ku': 326, 'selamat': 555, 'tidur': 637, 'nyenyak': 456, 'anak': 26, 'sayang': 545, 'ulang': 665, 'uang': 660, 'tuhan': 652, 'lambat': 341, 'cepat': 117, 'anjing': 34, 'capek': 113, 'kemarin': 300, 'gegara': 193, 'ketemu': 314, 'kasur': 290, 'langsung': 343, 'untung': 671, 'upacara': 673, 'kangen': 282, 'si': 576, 'eh': 167, 'lupa': 364, 'pas': 479, 'ajar': 11, 'nek': 430, 'kadang': 273, 'sok': 594, 'tinggal': 640, 'dunia': 166, 'jadwal': 253, 'heran': 218, 'tekan': 624, 'melulu': 400, 'beda': 74, 'gara': 188, 'gratis': 202, 'kirim': 317, 'nomor': 448, 'tas': 622, 'free': 176, 'fokus': 174, 'sungguh': 607, 'pagi': 471, 'mata': 391, 'merem': 405, 'mandi': 382, 'andai': 28, 'jarang': 261, 'lihat': 354, 'main': 372, 'pulang': 506, 'cuma': 131, 'ngingetin': 439, 'hahaha': 207, 'cek': 115, 'asa': 37, 'hidup': 220, 'sedang': 548, 'apa': 36, 'yah': 695, 'lulus': 362, 'nasib': 428, 'corona': 124, 'but': 109, 'like': 355, 'it': 248, 'puasa': 505, 'bosan': 101, 'rumah': 526, 'suruh': 608, 'kalah': 277, 'emosi': 171, 'ayo': 45, 'sehat': 550, 'biar': 88, 'sejarah': 551, 'kali': 278, 'gedung': 192, 'kota': 324, 'tagih': 611, 'kurang': 332, 'jajan': 255, 'kasih': 289, 'berangkat': 82, 'ah': 7, 'suka': 603, 'tugas': 651, 'hukum': 230, 'kenang': 304, 'anggur': 31, 'peduli': 483, 'perintah': 492, 'buka': 104, 'siswa': 586, 'seko': 552, 'boong': 99, 'offline': 459, 'absen': 0, 'yaa': 692, 'rindu': 523, 'jadi': 252, 'senang': 563, 'doa': 156, 'tahun': 614, 'penuh': 487, 'otak': 468, 'semester': 562, 'suasana': 600, 'panas': 475, 'hp': 227, 'kesal': 311, 'matematika': 393, 'nyata': 455, 'lagiii': 335, 'cinta': 121, 'by': 111, 'serang': 570, 'ngerasain': 437, 'subuh': 601, 'dengar': 144, 'hari': 213, 'ambil': 20, 'tambah': 617, 'benci': 79, 'mana': 381, 'bendera': 80, 'kesini': 313, 'jiwa': 264, 'please': 498, 'jaga': 254, 'and': 27, 'sukses': 604, 'nilai': 447, 'bagus': 52, 'punya': 507, 'ya': 691, 'sd': 546, 'lucu': 361, 'maksud': 374, 'coba': 123, 'cewek': 119, 'bayang': 69, 'beres': 84, 'kepala': 305, 'guru': 204, 'sumpah': 606, 'ngantuk': 435, 'kaya': 293, 'amp': 22, 'tertawa': 632, 'kakak': 275, 'kelas': 297, 'nulis': 452, 'kertas': 309, 'asik': 38, 'pen': 485, 'kayak': 294, 'kampus': 281, 'diri': 153, 'batas': 67, 'mu': 417, 'up': 672, 'you': 699, 'way': 680, 'bodoh': 97, 'siapin': 579, 'lengkap': 352, 'isi': 245, 'dasi': 138, 'topi': 647, 'buku': 105, 'sarap': 541, 'woy': 690, 'kumpul': 330, 'senen': 564, 'gaya': 190, 'an': 25, 'bolos': 98, 'enak': 172, 'tu': 649, 'canda': 112, 'killer': 316, 'bu': 102, 'kantin': 283, 'he': 216, 'foto': 175, 'pakai': 473, 'makan': 373, 'minum': 410, 'perempuan': 489, 'gilir': 198, 'klean': 320, 'angkat': 32, 'bahasa': 54, 'ajg': 12, 'buru': 107, 'prepare': 502, 'bawa': 68, 'pr': 500, 'sm': 589, 'rutinitas': 528, 'mas': 388, 'hmm': 224, 'selesai': 557, 'kaos': 285, 'kaki': 276, 'lancar': 342, 'deg': 142, 'aduh': 5, 'wabah': 679, 'kantor': 284, 'pabrik': 469, 'tutup': 658, 'sibuk': 580, 'pusing': 509, 'tumpuk': 654, 'pacar': 470, 'huhu': 228, 'santai': 540, 'resiko': 520, 'mati': 395, 'hilang': 222, 'negeri': 429, 'karyawan': 287, 'tim': 638, 'aman': 19, 'hasil': 214, 'baik': 55, 'dionline': 152, 'bilang': 92, 'bingung': 93, 'cari': 114, 'sanggup': 539, 'terima': 629, 'mama': 379, 'karantina': 286, 'lapang': 345, 'ehh': 168, 'dasar': 137, 'bekal': 77, 'ikut': 234, 'mesti': 406, 'wkwkwk': 688, 'nugas': 451, 'kejar': 296, 'usaha': 676, 'lari': 347, 'kesana': 312, 'gila': 197, 'kasi': 288, 'nama': 426, 'sabar': 529, 'kesah': 310, 'terosss': 631, 'satu': 543, 'hm': 223, 'ilmu': 235, 'undur': 669, 'ke': 295, 'motor': 416, 'skrng': 588, 'senin': 565, 'kola': 322, 'dear': 140, 'maaf': 366, 'kotor': 325, 'matahari': 392, 'un': 667, 'raya': 515, 'gaji': 182, 'mimpi': 408, 'pasar': 480, 'ngopi': 441, 'jalur': 258, 'trend': 648, 'do': 155, 'kawan': 292, 'kabar': 272, 'distancing': 154, 'mohon': 415, 'tangan': 618, 'tua': 650, 'bareng': 65, 'auto': 41, 'pinter': 497, 'bangsat': 60, 'covid': 125, 'lanjut': 344, 'hobi': 225, 'mampus': 380, 'panjang': 477, 'tunggu': 656, 'stress': 598, 'terus': 633, 'cerita': 118, 'ganggu': 184, 'cita': 122, 'sing': 585, 'jelas': 263, 'lockdown': 356, 'stay': 597, 'marah': 385, 'sedih': 549, 'gais': 181, 'tenang': 628, 'istirahat': 246, 'juang': 268, 'rupiah': 527, 'laku': 339, 'ruang': 525, 'pekan': 484, 'buruh': 108, 'of': 458, 'iri': 243, 'weekend': 681, 'ken': 301, 'lebih': 349, 'ok': 463, 'tunda': 655, 'virus': 677, 'kena': 302, 'wkwkw': 687, 'enjoy': 173, 'lahir': 336, 'didik': 148, 'perhati': 491, 'awas': 43, 'ajak': 10, 'sahabat': 534, 'titip': 642, 'sudah': 602, 'dosa': 158, 'kaget': 274, 'gantung': 187, 'sabtu': 530, 'ganti': 185, 'bayar': 70, 'seragam': 568, 'ngomong': 440, 'harap': 211, 'dapetin': 135, 'sob': 593, 'kuat': 327, 'sesuai': 573, 'tamat': 616, 'tanggal': 619, 'ade': 2, 'cuci': 129, 'ma': 365, 'sepatu': 567, 'mulut': 420, 'ujan': 663, 'siang': 577, 'ampe': 23, 'ngak': 434, 'moga': 414, 'gin': 199, 'gerbang': 195, 'adik': 4, 'gausah': 189, 'ko': 321, 'urus': 675, 'yaelah': 694, 'murid': 421, 'butuh': 110, 'tenaga': 627, 'on': 465, 'the': 634, 'di': 147, 'celana': 116, 'tolong': 646, 'chat': 120, 'saudara': 544, 'laki': 338, 'wa': 678, 'gada': 180, 'kaum': 291, 'nikmat': 445, 'banjir': 62, 'mabar': 367, 'menang': 401, 'dikit': 150, 'gerak': 194, 'asli': 39, 'pura': 508, 'ingat': 240, 'susah': 609, 'bulan': 106, 'indah': 237, 'gblk': 191, 'emak': 170, 'me': 398, 'maless': 377, 'adek': 3, 'alat': 15, 'dah': 133, 'yes': 697, 'hujan': 229, 'gaadaloegarame': 178, 'awal': 42, 'senyum': 566, 'twitter': 659, 'yaaa': 693, 'unbk': 668, 'praktek': 501, 'tuntut': 657, 'bismillah': 95, 'bahagia': 53, 'temu': 626, 'bodoamat': 96, 'sii': 582, 'jngn': 265, 'mlm': 412, 'mutualan': 423, 'bagi': 51, 'nyaman': 454, 'aneh': 29, 'mutual': 422, 'paud': 482, 'smp': 590, 'aktivitas': 13, 'setrika': 574, 'ayah': 44, 'in': 236, 'time': 639, 'besok': 86, 'selesei': 558, 'again': 6, 'cowo': 126, 'bersih': 85, 'siap': 578, 'hihi': 221, 'is': 244, 'holiday': 226, 'miskin': 411, 'malu': 378, 'bantu': 63, 'neng': 431, 'mau': 396, 'le': 348, 'ribet': 522, 'hadap': 206, 'harga': 212, 'nggada': 438, 'ngajak': 433, 'jodoh': 266, 'wes': 683, 'gampang': 183, 'luar': 360, 'ojo': 461, 'sulit': 605, 'oke': 464, 'magang': 369, 'interview': 242, 'dan': 134, 'lain': 337, 'aja': 9, 'bicara': 90, 'dino': 151, 'sadar': 532, 'macet': 368, 'basi': 66, 'cuk': 130, 'melek': 399, 'lelah': 350, 'mudah': 418, 'kkn': 319, 'niat': 443, 'rasa': 514, 'sore': 596, 'rapi': 513, 'tulis': 653, 'rabu': 511, 'kamis': 280, 'jumat': 271, 'tahan': 612, 'goblok': 200, 'salam': 538, 'ingetin': 241, 'drama': 160, 'silah': 584, 'baca': 47, 'hutang': 231, 'ayok': 46, 'nyuci': 457, 'bebas': 73, 'dokter': 157, 'full': 177, 'siih': 583, 'yak': 696, 'berat': 83, 'wisuda': 686, 'serius': 572, 'cpt': 128, 'jabat': 251, 'suami': 599, 'istri': 247, 'pamit': 474, 'keluarga': 298, 'dukung': 164, 'uas': 661, 'smpe': 591, 'resign': 519, 'so': 592, 'lagi': 334, 'bangkit': 59, 'alas': 14, 'sholat': 575, 'serasa': 571, 'dikerjain': 149, 'loh': 357, 'sakit': 535, 'ubah': 662, 'umur': 666, 'nikmatin': 446, 'indo': 238, 'duduk': 161, 'ngucapin': 442, 'mbak': 397, 'anggap': 30, 'bego': 76, 'ampun': 24, 'update': 674, 'gtu': 203, 'kisah': 318, 'hai': 208, 'nambah': 427, 'banyak': 64, 'sad': 531, 'ojol': 462, 'anyep': 35, 'untuk': 670, 'kerjain': 308, 'mantan': 383, 'back': 48, 'to': 644, 'reality': 516, 'pasti': 481, 'atas': 40, 'badan': 49, 'bensin': 81, 'milik': 407, 'nikah': 444, 'duit': 163, 'pindah': 496, 'cowok': 127, 'ngapa': 436, 'jas': 262, 'alias': 17, 'welcome': 682, 'lt': 359, 'ada': 1, 'bagai': 50, 'debat': 141, 'ibadah': 233, 'keras': 306, 'daring': 136, 'produktif': 503, 'willdahamid': 685, 'eks': 169, 'sopir': 595, 'angkot': 33, 'depok': 146, 'nostalgia': 450, 'reply': 518, 'tingkah': 641, 'merana': 404, 'proses': 504, 'manusia': 384, 'dosen': 159, 'mahasiswa': 371, 'sarjana': 542, 'ngabisin': 432, 'laptop': 346, 'pilih': 495, 'yok': 698, 'menit': 402, 'pengaruh': 486, 'deadline': 139, 'gantiin': 186, 'posisi': 499, 'saku': 536, 'materi': 394, 'balik': 57, 'begadang': 75, 'salah': 537, 'gaboleh': 179, 'masker': 389, 'maret': 386, 'kamar': 279, 'kopi': 323, 'perdana': 488, 'be': 71, 'iain': 232, 'nak': 425, 'informasi': 239, 'lembur': 351, 'kuda': 328, 'lageeee': 333, 'terimakasih': 630, 'mari': 387, 'buah': 103, 'merah': 403, 'duluan': 165, 'kuota': 331, 'semangatin': 560, 'lowong': 358, 'kik': 315, 'bgsd': 87, 'judul': 269, 'jogja': 267, 'izin': 250, 'nabung': 424, 'halal': 209, 'woi': 689, 'wfh': 684, 'paham': 472, 'air': 8, 'hibur': 219, 'jakarta': 256, 'rezeki': 521, 'rekan': 517, 'tolak': 645, 'ronta': 524, 'modal': 413, 'cuti': 132, 'lamar': 340, 'panggil': 476, 'lumayan': 363, 'parah': 478, 'safe': 533, 'tanggung': 620, 'kenal': 303, 'bos': 100, 'amin': 21, 'duid': 162}\n"
          ]
        }
      ],
      "source": [
        "print(Tfidf_vect.vocabulary_)"
      ]
    },
    {
      "cell_type": "code",
      "execution_count": null,
      "metadata": {
        "id": "geLdmlvJQIGq"
      },
      "outputs": [],
      "source": [
        "print(Train_X_Tfidf)"
      ]
    },
    {
      "cell_type": "code",
      "source": [
        "print(Test_X_Tfidf)"
      ],
      "metadata": {
        "id": "xibEi5eYeECr"
      },
      "execution_count": null,
      "outputs": []
    },
    {
      "cell_type": "markdown",
      "metadata": {
        "id": "k5CKa2IJQ9lI"
      },
      "source": [
        "Model SVM"
      ]
    },
    {
      "cell_type": "code",
      "execution_count": null,
      "metadata": {
        "id": "aGvcmGcRQWtI"
      },
      "outputs": [],
      "source": [
        "from sklearn import model_selection, svm\n",
        "from sklearn.metrics import accuracy_score"
      ]
    },
    {
      "cell_type": "code",
      "source": [
        "from sklearn.model_selection import KFold # import KFold"
      ],
      "metadata": {
        "id": "7TCqK1cpUQ7K"
      },
      "execution_count": null,
      "outputs": []
    },
    {
      "cell_type": "code",
      "source": [
        "kf = KFold(n_splits=10, random_state=None, shuffle=False) # Define the split - into 2 folds \n",
        "#kf.get_n_splits(X) # returns the number of splitting iterations in the cross-validator\n",
        "print(kf) "
      ],
      "metadata": {
        "colab": {
          "base_uri": "https://localhost:8080/"
        },
        "id": "qUvPXnmGULcX",
        "outputId": "618b47f4-1ce1-4c31-9342-1b73d1a128ba"
      },
      "execution_count": null,
      "outputs": [
        {
          "output_type": "stream",
          "name": "stdout",
          "text": [
            "KFold(n_splits=10, random_state=None, shuffle=False)\n"
          ]
        }
      ]
    },
    {
      "cell_type": "code",
      "source": [
        "from sklearn.metrics._plot.confusion_matrix import plot_confusion_matrix"
      ],
      "metadata": {
        "id": "0p2jaDrKZ_Bt"
      },
      "execution_count": null,
      "outputs": []
    },
    {
      "cell_type": "code",
      "source": [
        "for train_index, validasi_index in kf.split(Train_X_Tfidf):\n",
        "  #print('Train:', train_index, 'Validasi:', test_index)\n",
        "  x_train, x_validasi, y_train, y_validasi = Train_X_Tfidf[train_index], Train_X_Tfidf[validasi_index], Train_Y[train_index], Train_Y[validasi_index]\n",
        "  model = SVC(C= 6.5, kernel='rbf', gamma=0.03)\n",
        "  model.fit(Train_X_Tfidf,Train_Y)\n",
        "  predicted_labels_train = model.predict(x_validasi)\n",
        "  predicted_labels_test = model.predict(Test_X_Tfidf)\n",
        "  \n",
        "print(\"Training\")\n",
        "print(\"Confusion Matrix: \")\n",
        "print(confusion_matrix(y_validasi, predicted_labels_train))\n",
        "print()\n",
        "print(\"Classifiction Report :\")\n",
        "print(classification_report(y_validasi, predicted_labels_train))\n",
        "  \n",
        "print()\n",
        "print(\"Testing\")\n",
        "print(\"Confusion Matrix: \")\n",
        "print(confusion_matrix(Test_Y, predicted_labels_test))\n",
        "print()\n",
        "print(\"Classifiction Report :\")\n",
        "print(classification_report(Test_Y, predicted_labels_test))\n"
      ],
      "metadata": {
        "colab": {
          "base_uri": "https://localhost:8080/"
        },
        "id": "LQJ_vmLTUXyk",
        "outputId": "234e0962-e5e8-43f5-b087-8f521da26e7d"
      },
      "execution_count": null,
      "outputs": [
        {
          "output_type": "stream",
          "name": "stdout",
          "text": [
            "Training\n",
            "Confusion Matrix: \n",
            "[[ 19  28]\n",
            " [  3 120]]\n",
            "\n",
            "Classifiction Report :\n",
            "              precision    recall  f1-score   support\n",
            "\n",
            "           0       0.86      0.40      0.55        47\n",
            "           1       0.81      0.98      0.89       123\n",
            "\n",
            "    accuracy                           0.82       170\n",
            "   macro avg       0.84      0.69      0.72       170\n",
            "weighted avg       0.83      0.82      0.79       170\n",
            "\n",
            "\n",
            "Testing\n",
            "Confusion Matrix: \n",
            "[[ 42  97]\n",
            " [  5 282]]\n",
            "\n",
            "Classifiction Report :\n",
            "              precision    recall  f1-score   support\n",
            "\n",
            "           0       0.89      0.30      0.45       139\n",
            "           1       0.74      0.98      0.85       287\n",
            "\n",
            "    accuracy                           0.76       426\n",
            "   macro avg       0.82      0.64      0.65       426\n",
            "weighted avg       0.79      0.76      0.72       426\n",
            "\n"
          ]
        }
      ]
    },
    {
      "cell_type": "markdown",
      "metadata": {
        "id": "ElNvhKVqSe3W"
      },
      "source": [
        "Pake 70:30 : SVM Accuracy Score ->  76.62538699690403"
      ]
    },
    {
      "cell_type": "markdown",
      "metadata": {
        "id": "RCeSmNnNSvHb"
      },
      "source": [
        "Pake 80:20 : SVM Accuracy Score ->  75.63805104408353"
      ]
    },
    {
      "cell_type": "markdown",
      "metadata": {
        "id": "thIZY95GTPFd"
      },
      "source": [
        "# Grid Search\n",
        "Set parameter for SVM\n",
        "gamma = [0.1, 0.01, 0.001, 0.0001]\n",
        "C = [ 1, 10, 100, 1000 ]\n",
        "kernel = Linear"
      ]
    },
    {
      "cell_type": "code",
      "execution_count": null,
      "metadata": {
        "id": "hSDTonFbTUUT"
      },
      "outputs": [],
      "source": [
        "param_grid = {'C':(1, 1.4, 2, 2.6), 'gamma':(0.1, 0.01, 0.001)}"
      ]
    },
    {
      "cell_type": "code",
      "execution_count": null,
      "metadata": {
        "id": "XZpsWLuCTccy"
      },
      "outputs": [],
      "source": [
        "from sklearn.model_selection import GridSearchCV\n",
        "from sklearn.metrics import classification_report, confusion_matrix"
      ]
    },
    {
      "cell_type": "code",
      "execution_count": null,
      "metadata": {
        "id": "NXPVcdePTnW-"
      },
      "outputs": [],
      "source": [
        "svc = SVC()"
      ]
    },
    {
      "cell_type": "code",
      "execution_count": null,
      "metadata": {
        "id": "VE9AnFCRTk7d"
      },
      "outputs": [],
      "source": [
        "grid_search = GridSearchCV(svc, param_grid, cv=10, verbose=10)"
      ]
    },
    {
      "cell_type": "code",
      "execution_count": null,
      "metadata": {
        "id": "9eMRI8F3TtV9"
      },
      "outputs": [],
      "source": [
        "grid_search.fit(Train_X_Tfidf,Train_Y)"
      ]
    },
    {
      "cell_type": "code",
      "execution_count": null,
      "metadata": {
        "colab": {
          "base_uri": "https://localhost:8080/"
        },
        "id": "ZsAVRGmHUDgL",
        "outputId": "6072aa0c-f95c-4e23-ce44-ce4ccb50aca0"
      },
      "outputs": [
        {
          "output_type": "execute_result",
          "data": {
            "text/plain": [
              "{'C': 2.6, 'gamma': 0.1}"
            ]
          },
          "metadata": {},
          "execution_count": 155
        }
      ],
      "source": [
        "grid_search.best_params_"
      ]
    },
    {
      "cell_type": "markdown",
      "metadata": {
        "id": "5t8c1LrXLPQD"
      },
      "source": [
        "TF-IDF bekerja dengan mencocokan\n",
        "-bikin notes hasil pekerjaan"
      ]
    },
    {
      "cell_type": "markdown",
      "metadata": {
        "id": "iWkdqO9IKAg0"
      },
      "source": [
        "# Model SVM-PSO"
      ]
    },
    {
      "cell_type": "code",
      "execution_count": null,
      "metadata": {
        "id": "VwbmUTw0KhbL"
      },
      "outputs": [],
      "source": [
        "import random\n",
        "import math\n",
        "from math import log"
      ]
    },
    {
      "cell_type": "code",
      "execution_count": null,
      "metadata": {
        "colab": {
          "base_uri": "https://localhost:8080/"
        },
        "id": "1YjypiktKK5o",
        "outputId": "8f2d34e4-12e6-4adb-e207-be68d3026bfb"
      },
      "outputs": [
        {
          "name": "stdout",
          "output_type": "stream",
          "text": [
            "Inform the number of iterations: 10\n",
            "Inform the number of particles: 5\n"
          ]
        }
      ],
      "source": [
        "W = 0.5\n",
        "c1 = 3\n",
        "c2 = 1\n",
        "\n",
        "n_iterations = int(input(\"Inform the number of iterations: \"))\n",
        "n_particles = int(input(\"Inform the number of particles: \"))"
      ]
    },
    {
      "cell_type": "code",
      "execution_count": null,
      "metadata": {
        "id": "-UfmQ6zvKUYp"
      },
      "outputs": [],
      "source": [
        "#mencari nilai 0-1 loss dari tiap partikel\n",
        "#partikle = (gamma,C) untuk rbf\n",
        "def fitness_function(position):\n",
        "  for train_index, validasi_index in kf.split(Train_X_Tfidf):\n",
        "    #print('Train:', train_index, 'Validasi:', test_index)\n",
        "    x_train, x_validasi, y_train, y_validasi = Train_X_Tfidf[train_index], Train_X_Tfidf[validasi_index], Train_Y[train_index], Train_Y[validasi_index]\n",
        "    model = SVC(kernel='rbf', gamma=position[0], C=position[1])\n",
        "    model.fit(Train_X_Tfidf,Train_Y)\n",
        "    predicted_labels_train = model.predict(x_validasi)\n",
        "    predicted_labels_test = model.predict(Test_X_Tfidf)\n",
        "    return confusion_matrix(y_validasi,predicted_labels_train)[0][1] + confusion_matrix(y_validasi,predicted_labels_train)[1][0], confusion_matrix(y_test,predicted_labels_test)[0][1] + confusion_matrix(y_test,predicted_labels_test)[1][0]\n",
        "\n",
        "#plotting (x axis = gamma, y axis = C)\n",
        "def plot(position):\n",
        "    x = []\n",
        "    y = []\n",
        "    for i in range(0,len(particle_position_vector)):\n",
        "        x.append(particle_position_vector[i][0])\n",
        "        y.append(particle_position_vector[i][1])\n",
        "    colors = (0,0,0)\n",
        "    plt.scatter(x, y, c = colors, alpha = 0.1)\n",
        "    plt.xlabel('Gamma')\n",
        "    plt.ylabel('C')\n",
        "    plt.axis([0,10,0,10])\n",
        "    plt.gca().set_aspect('equal', adjustable='box')\n",
        "    return plt.show()"
      ]
    },
    {
      "cell_type": "code",
      "source": [
        "random.seed(30)\n",
        "particle_position_vector = np.array([np.array([random.random(), random.random()*10]) for _ in range(n_particles)])\n",
        "pbest_position = particle_position_vector\n",
        "pbest_fitness_value = np.array([float('inf') for _ in range(n_particles)])\n",
        "gbest_fitness_value = np.array([float('inf'), float('inf')])\n",
        "gbest_position = np.array([float('inf'), float('inf')])\n",
        "\n",
        "velocity_vector = ([np.array([0, 0]) for _ in range(n_particles)])\n",
        "iteration = 0\n",
        "while iteration < n_iterations:\n",
        "    plot(particle_position_vector)\n",
        "    for i in range(n_particles):\n",
        "        fitness_cadidate = fitness_function(particle_position_vector[i])\n",
        "        print(\"error of particle-\",i+1,\"is (training, test)\", fitness_cadidate, \" At (gamma, c): \", particle_position_vector[i])\n",
        "\n",
        "        \n",
        "        if(pbest_fitness_value[i] > fitness_cadidate[1]):\n",
        "            pbest_fitness_value[i] = fitness_cadidate[1]\n",
        "            pbest_position[i] = particle_position_vector[i]\n",
        "            \n",
        "            if(gbest_fitness_value[1] > fitness_cadidate[1]):\n",
        "              gbest_fitness_value = fitness_cadidate\n",
        "              gbest_position = particle_position_vector[i]\n",
        "              \n",
        "              if(gbest_fitness_value[1] == fitness_cadidate[1] and gbest_fitness_value[0] > fitness_cadidate[0]):\n",
        "                gbest_fitness_value = fitness_cadidate\n",
        "                gbest_position = particle_position_vector[i]\n",
        "                \n",
        "\n",
        "    for i in range(n_particles):\n",
        "        #max_velocity = np.array([1,10])\n",
        "        #min_velocity = np.array([-1,-100])\n",
        "        #max_position = np.array([1,10])\n",
        "        #min_position = np.array([0.01, 0.1])\n",
        "        new_velocity = W*(velocity_vector[i] + ((c1*random.random()) * (pbest_position[i] - particle_position_vector[i])) + \n",
        "                          ((c2*random.random()) * (gbest_position - particle_position_vector[i])))\n",
        "        \n",
        "        #for j in range(0,len(new_velocity)):\n",
        "            #if(new_velocity[j] > max_velocity[j]):\n",
        "                #new_velocity[j] = max_velocity[j]\n",
        "            #elif(new_velocity[j] < min_velocity[j]):\n",
        "                #new_velocity[j] = min_velocity[j]\n",
        "            \n",
        "        new_position = new_velocity + particle_position_vector[i]\n",
        "        particle_position_vector[i] = new_position\n",
        "        \n",
        "        #for j in range(0,2):\n",
        "            #if(particle_position_vector[i][j] > max_position[j]):\n",
        "                ##particle_position_vector[i][j] = max_position[j]\n",
        "            #elif(particle_position_vector[i][j] < min_position[j]):\n",
        "                #particle_position_vector[i][j] = min_position[j]\n",
        "\n",
        "    iteration = iteration + 1\n",
        "print(\"The best position is \", gbest_position, \"in iteration number\", iteration, \"with error rate (train, test):\", fitness_function(gbest_position))"
      ],
      "metadata": {
        "id": "JApk5CgC7j5b",
        "colab": {
          "base_uri": "https://localhost:8080/",
          "height": 1000
        },
        "outputId": "9a8e667c-b70c-4247-f2f4-bf6cedbb5122"
      },
      "execution_count": null,
      "outputs": [
        {
          "output_type": "stream",
          "name": "stderr",
          "text": [
            "WARNING:matplotlib.axes._axes:*c* argument looks like a single numeric RGB or RGBA sequence, which should be avoided as value-mapping will have precedence in case its length matches with *x* & *y*.  Please use the *color* keyword-argument or provide a 2-D array with a single row if you intend to specify the same RGB or RGBA value for all points.\n"
          ]
        },
        {
          "output_type": "display_data",
          "data": {
            "text/plain": [
              "<Figure size 432x288 with 1 Axes>"
            ],
            "image/png": "[encoded data removed]"
          },
          "metadata": {
            "needs_background": "light"
          }
        },
        {
          "output_type": "stream",
          "name": "stdout",
          "text": [
            "error of particle- 1 is (training, test) (8, 72)  At (gamma, c):  [0.53908156 2.89196444]\n",
            "error of particle- 2 is (training, test) (29, 49)  At (gamma, c):  [0.03003691 6.53635754]\n",
            "error of particle- 3 is (training, test) (20, 65)  At (gamma, c):  [0.2100087  2.57276975]\n",
            "error of particle- 4 is (training, test) (3, 78)  At (gamma, c):  [0.39719826 6.41578154]\n"
          ]
        },
        {
          "output_type": "stream",
          "name": "stderr",
          "text": [
            "WARNING:matplotlib.axes._axes:*c* argument looks like a single numeric RGB or RGBA sequence, which should be avoided as value-mapping will have precedence in case its length matches with *x* & *y*.  Please use the *color* keyword-argument or provide a 2-D array with a single row if you intend to specify the same RGB or RGBA value for all points.\n"
          ]
        },
        {
          "output_type": "stream",
          "name": "stdout",
          "text": [
            "error of particle- 5 is (training, test) (2, 75)  At (gamma, c):  [0.98881121 4.6153301 ]\n"
          ]
        },
        {
          "output_type": "display_data",
          "data": {
            "text/plain": [
              "<Figure size 432x288 with 1 Axes>"
            ],
            "image/png": "[encoded data removed]"
          },
          "metadata": {
            "needs_background": "light"
          }
        },
        {
          "output_type": "stream",
          "name": "stdout",
          "text": [
            "error of particle- 1 is (training, test) (10, 72)  At (gamma, c):  [0.28644983 4.7006257 ]\n",
            "error of particle- 2 is (training, test) (29, 49)  At (gamma, c):  [0.03003691 6.53635754]\n",
            "error of particle- 3 is (training, test) (18, 66)  At (gamma, c):  [0.13424933 4.24124744]\n",
            "error of particle- 4 is (training, test) (10, 75)  At (gamma, c):  [0.22876985 6.47109353]\n"
          ]
        },
        {
          "output_type": "stream",
          "name": "stderr",
          "text": [
            "WARNING:matplotlib.axes._axes:*c* argument looks like a single numeric RGB or RGBA sequence, which should be avoided as value-mapping will have precedence in case its length matches with *x* & *y*.  Please use the *color* keyword-argument or provide a 2-D array with a single row if you intend to specify the same RGB or RGBA value for all points.\n"
          ]
        },
        {
          "output_type": "stream",
          "name": "stdout",
          "text": [
            "error of particle- 5 is (training, test) (2, 79)  At (gamma, c):  [0.67508884 5.24391316]\n"
          ]
        },
        {
          "output_type": "display_data",
          "data": {
            "text/plain": [
              "<Figure size 432x288 with 1 Axes>"
            ],
            "image/png": "[encoded data removed]"
          },
          "metadata": {
            "needs_background": "light"
          }
        },
        {
          "output_type": "stream",
          "name": "stdout",
          "text": [
            "error of particle- 1 is (training, test) (10, 72)  At (gamma, c):  [0.27777909 4.76270192]\n",
            "error of particle- 2 is (training, test) (29, 49)  At (gamma, c):  [0.03003691 6.53635754]\n",
            "error of particle- 3 is (training, test) (23, 67)  At (gamma, c):  [0.09449168 5.11684542]\n",
            "error of particle- 4 is (training, test) (16, 72)  At (gamma, c):  [0.1618074  6.49308403]\n"
          ]
        },
        {
          "output_type": "stream",
          "name": "stderr",
          "text": [
            "WARNING:matplotlib.axes._axes:*c* argument looks like a single numeric RGB or RGBA sequence, which should be avoided as value-mapping will have precedence in case its length matches with *x* & *y*.  Please use the *color* keyword-argument or provide a 2-D array with a single row if you intend to specify the same RGB or RGBA value for all points.\n"
          ]
        },
        {
          "output_type": "stream",
          "name": "stdout",
          "text": [
            "error of particle- 5 is (training, test) (6, 78)  At (gamma, c):  [0.38637145 5.82239553]\n"
          ]
        },
        {
          "output_type": "display_data",
          "data": {
            "text/plain": [
              "<Figure size 432x288 with 1 Axes>"
            ],
            "image/png": "[encoded data removed]"
          },
          "metadata": {
            "needs_background": "light"
          }
        },
        {
          "output_type": "stream",
          "name": "stdout",
          "text": [
            "error of particle- 1 is (training, test) (13, 72)  At (gamma, c):  [0.21653098 5.2011943 ]\n",
            "error of particle- 2 is (training, test) (29, 49)  At (gamma, c):  [0.03003691 6.53635754]\n",
            "error of particle- 3 is (training, test) (23, 66)  At (gamma, c):  [0.0863694  5.29572536]\n",
            "error of particle- 4 is (training, test) (17, 72)  At (gamma, c):  [0.14578255 6.4983466 ]\n"
          ]
        },
        {
          "output_type": "stream",
          "name": "stderr",
          "text": [
            "WARNING:matplotlib.axes._axes:*c* argument looks like a single numeric RGB or RGBA sequence, which should be avoided as value-mapping will have precedence in case its length matches with *x* & *y*.  Please use the *color* keyword-argument or provide a 2-D array with a single row if you intend to specify the same RGB or RGBA value for all points.\n"
          ]
        },
        {
          "output_type": "stream",
          "name": "stdout",
          "text": [
            "error of particle- 5 is (training, test) (10, 75)  At (gamma, c):  [0.24924768 6.09714061]\n"
          ]
        },
        {
          "output_type": "display_data",
          "data": {
            "text/plain": [
              "<Figure size 432x288 with 1 Axes>"
            ],
            "image/png": "[encoded data removed]"
          },
          "metadata": {
            "needs_background": "light"
          }
        },
        {
          "output_type": "stream",
          "name": "stdout",
          "text": [
            "error of particle- 1 is (training, test) (17, 71)  At (gamma, c):  [0.14660506 5.70181351]\n",
            "error of particle- 2 is (training, test) (29, 49)  At (gamma, c):  [0.03003691 6.53635754]\n",
            "error of particle- 3 is (training, test) (25, 63)  At (gamma, c):  [0.06819135 5.69606763]\n",
            "error of particle- 4 is (training, test) (18, 68)  At (gamma, c):  [0.09585786 6.5147419 ]\n"
          ]
        },
        {
          "output_type": "stream",
          "name": "stderr",
          "text": [
            "WARNING:matplotlib.axes._axes:*c* argument looks like a single numeric RGB or RGBA sequence, which should be avoided as value-mapping will have precedence in case its length matches with *x* & *y*.  Please use the *color* keyword-argument or provide a 2-D array with a single row if you intend to specify the same RGB or RGBA value for all points.\n"
          ]
        },
        {
          "output_type": "stream",
          "name": "stdout",
          "text": [
            "error of particle- 5 is (training, test) (13, 72)  At (gamma, c):  [0.19225086 6.21134106]\n"
          ]
        },
        {
          "output_type": "display_data",
          "data": {
            "text/plain": [
              "<Figure size 432x288 with 1 Axes>"
            ],
            "image/png": "[encoded data removed]"
          },
          "metadata": {
            "needs_background": "light"
          }
        },
        {
          "output_type": "stream",
          "name": "stdout",
          "text": [
            "error of particle- 1 is (training, test) (19, 66)  At (gamma, c):  [0.09197708 6.09291053]\n",
            "error of particle- 2 is (training, test) (29, 49)  At (gamma, c):  [0.03003691 6.53635754]\n",
            "error of particle- 3 is (training, test) (27, 58)  At (gamma, c):  [0.05040117 6.08786754]\n",
            "error of particle- 4 is (training, test) (19, 67)  At (gamma, c):  [0.08744598 6.51750437]\n"
          ]
        },
        {
          "output_type": "stream",
          "name": "stderr",
          "text": [
            "WARNING:matplotlib.axes._axes:*c* argument looks like a single numeric RGB or RGBA sequence, which should be avoided as value-mapping will have precedence in case its length matches with *x* & *y*.  Please use the *color* keyword-argument or provide a 2-D array with a single row if you intend to specify the same RGB or RGBA value for all points.\n"
          ]
        },
        {
          "output_type": "stream",
          "name": "stdout",
          "text": [
            "error of particle- 5 is (training, test) (17, 71)  At (gamma, c):  [0.13750545 6.32103052]\n"
          ]
        },
        {
          "output_type": "display_data",
          "data": {
            "text/plain": [
              "<Figure size 432x288 with 1 Axes>"
            ],
            "image/png": "[encoded data removed]"
          },
          "metadata": {
            "needs_background": "light"
          }
        },
        {
          "output_type": "stream",
          "name": "stdout",
          "text": [
            "error of particle- 1 is (training, test) (23, 65)  At (gamma, c):  [0.0663335  6.27650008]\n",
            "error of particle- 2 is (training, test) (29, 49)  At (gamma, c):  [0.03003691 6.53635754]\n",
            "error of particle- 3 is (training, test) (25, 56)  At (gamma, c):  [0.04822897 6.13570689]\n",
            "error of particle- 4 is (training, test) (22, 67)  At (gamma, c):  [0.07505315 6.52157418]\n"
          ]
        },
        {
          "output_type": "stream",
          "name": "stderr",
          "text": [
            "WARNING:matplotlib.axes._axes:*c* argument looks like a single numeric RGB or RGBA sequence, which should be avoided as value-mapping will have precedence in case its length matches with *x* & *y*.  Please use the *color* keyword-argument or provide a 2-D array with a single row if you intend to specify the same RGB or RGBA value for all points.\n"
          ]
        },
        {
          "output_type": "stream",
          "name": "stdout",
          "text": [
            "error of particle- 5 is (training, test) (17, 68)  At (gamma, c):  [0.10418855 6.38778521]\n"
          ]
        },
        {
          "output_type": "display_data",
          "data": {
            "text/plain": [
              "<Figure size 432x288 with 1 Axes>"
            ],
            "image/png": "[encoded data removed]"
          },
          "metadata": {
            "needs_background": "light"
          }
        },
        {
          "output_type": "stream",
          "name": "stdout",
          "text": [
            "error of particle- 1 is (training, test) (24, 61)  At (gamma, c):  [0.05943427 6.32589361]\n",
            "error of particle- 2 is (training, test) (29, 49)  At (gamma, c):  [0.03003691 6.53635754]\n",
            "error of particle- 3 is (training, test) (24, 55)  At (gamma, c):  [0.04237283 6.26467875]\n",
            "error of particle- 4 is (training, test) (24, 66)  At (gamma, c):  [0.06665262 6.52433292]\n"
          ]
        },
        {
          "output_type": "stream",
          "name": "stderr",
          "text": [
            "WARNING:matplotlib.axes._axes:*c* argument looks like a single numeric RGB or RGBA sequence, which should be avoided as value-mapping will have precedence in case its length matches with *x* & *y*.  Please use the *color* keyword-argument or provide a 2-D array with a single row if you intend to specify the same RGB or RGBA value for all points.\n"
          ]
        },
        {
          "output_type": "stream",
          "name": "stdout",
          "text": [
            "error of particle- 5 is (training, test) (21, 67)  At (gamma, c):  [0.07744786 6.44136361]\n"
          ]
        },
        {
          "output_type": "display_data",
          "data": {
            "text/plain": [
              "<Figure size 432x288 with 1 Axes>"
            ],
            "image/png": "[encoded data removed]"
          },
          "metadata": {
            "needs_background": "light"
          }
        },
        {
          "output_type": "stream",
          "name": "stdout",
          "text": [
            "error of particle- 1 is (training, test) (24, 59)  At (gamma, c):  [0.05166203 6.38153725]\n",
            "error of particle- 2 is (training, test) (29, 49)  At (gamma, c):  [0.03003691 6.53635754]\n",
            "error of particle- 3 is (training, test) (24, 54)  At (gamma, c):  [0.04030896 6.31013213]\n",
            "error of particle- 4 is (training, test) (24, 61)  At (gamma, c):  [0.05653205 6.52765652]\n"
          ]
        },
        {
          "output_type": "stream",
          "name": "stderr",
          "text": [
            "WARNING:matplotlib.axes._axes:*c* argument looks like a single numeric RGB or RGBA sequence, which should be avoided as value-mapping will have precedence in case its length matches with *x* & *y*.  Please use the *color* keyword-argument or provide a 2-D array with a single row if you intend to specify the same RGB or RGBA value for all points.\n"
          ]
        },
        {
          "output_type": "stream",
          "name": "stdout",
          "text": [
            "error of particle- 5 is (training, test) (24, 66)  At (gamma, c):  [0.06816103 6.45997096]\n"
          ]
        },
        {
          "output_type": "display_data",
          "data": {
            "text/plain": [
              "<Figure size 432x288 with 1 Axes>"
            ],
            "image/png": "[encoded data removed]"
          },
          "metadata": {
            "needs_background": "light"
          }
        },
        {
          "output_type": "stream",
          "name": "stdout",
          "text": [
            "error of particle- 1 is (training, test) (24, 56)  At (gamma, c):  [0.04479171 6.43072382]\n",
            "error of particle- 2 is (training, test) (29, 49)  At (gamma, c):  [0.03003691 6.53635754]\n",
            "error of particle- 3 is (training, test) (26, 51)  At (gamma, c):  [0.03608102 6.40324576]\n",
            "error of particle- 4 is (training, test) (25, 56)  At (gamma, c):  [0.04526617 6.53135624]\n",
            "error of particle- 5 is (training, test) (24, 60)  At (gamma, c):  [0.05247166 6.49140663]\n",
            "The best position is  [0.03003691 6.53635754] in iteration number 10 with error rate (train, test): (29, 49)\n"
          ]
        }
      ]
    },
    {
      "cell_type": "code",
      "source": [
        "random.seed(25)\n",
        "particle_position_vector = np.array([np.array([random.random(), random.random()*10]) for _ in range(n_particles)])\n",
        "pbest_position = particle_position_vector\n",
        "pbest_fitness_value = np.array([float('inf') for _ in range(n_particles)])\n",
        "gbest_fitness_value = np.array([float('inf'), float('inf')])\n",
        "gbest_position = np.array([float('inf'), float('inf')])\n",
        "\n",
        "velocity_vector = ([np.array([0, 0]) for _ in range(n_particles)])\n",
        "iteration = 0\n",
        "while iteration < n_iterations:\n",
        "    plot(particle_position_vector)\n",
        "    for i in range(n_particles):\n",
        "        fitness_cadidate = fitness_function(particle_position_vector[i])\n",
        "        print(\"error of particle-\",i+1,\"is (training, test)\", fitness_cadidate, \" At (gamma, c): \", particle_position_vector[i])\n",
        "\n",
        "        \n",
        "        if(pbest_fitness_value[i] > fitness_cadidate[1]):\n",
        "            pbest_fitness_value[i] = fitness_cadidate[1]\n",
        "            pbest_position[i] = particle_position_vector[i]\n",
        "            \n",
        "        if(gbest_fitness_value[1] > fitness_cadidate[1]):\n",
        "              gbest_fitness_value = fitness_cadidate\n",
        "              gbest_position = particle_position_vector[i]\n",
        "              \n",
        "        elif(gbest_fitness_value[1] == fitness_cadidate[1] and gbest_fitness_value[0] > fitness_cadidate[0]):\n",
        "              gbest_fitness_value = fitness_cadidate\n",
        "              gbest_position = particle_position_vector[i]\n",
        "                \n",
        "\n",
        "    for i in range(n_particles):\n",
        "      max_velocity = np.array([1,10])\n",
        "      min_velocity = np.array([-1,-100])\n",
        "      max_position = np.array([1,10])\n",
        "      min_position = np.array([0.0001, 0.001])\n",
        "      new_velocity = W*(velocity_vector[i] + ((c1*random.random()) * (pbest_position[i] - particle_position_vector[i])) + \n",
        "                          ((c2*random.random()) * (gbest_position - particle_position_vector[i])))\n",
        "        \n",
        "      for j in range(0,len(new_velocity)):\n",
        "        if(new_velocity[j] > max_velocity[j]):\n",
        "          new_velocity[j] = max_velocity[j]\n",
        "        elif(new_velocity[j] < min_velocity[j]):\n",
        "          new_velocity[j] = min_velocity[j]\n",
        "            \n",
        "      new_position = new_velocity + particle_position_vector[i]\n",
        "      particle_position_vector[i] = new_position\n",
        "        \n",
        "      for j in range(0,2):\n",
        "        if(particle_position_vector[i][j] > max_position[j]):\n",
        "          particle_position_vector[i][j] = max_position[j]\n",
        "        elif(particle_position_vector[i][j] < min_position[j]):\n",
        "          particle_position_vector[i][j] = min_position[j]\n",
        "\n",
        "    iteration = iteration + 1\n",
        "print(\"The best position is \", gbest_position, \"in iteration number\", iteration, \"with error rate (train, test):\", fitness_function(gbest_position))"
      ],
      "metadata": {
        "id": "Lx0EmCCG7l34",
        "colab": {
          "base_uri": "https://localhost:8080/",
          "height": 1000
        },
        "outputId": "a424851a-03e5-43ad-b4a1-290aa874aa88"
      },
      "execution_count": null,
      "outputs": [
        {
          "output_type": "stream",
          "name": "stderr",
          "text": [
            "WARNING:matplotlib.axes._axes:*c* argument looks like a single numeric RGB or RGBA sequence, which should be avoided as value-mapping will have precedence in case its length matches with *x* & *y*.  Please use the *color* keyword-argument or provide a 2-D array with a single row if you intend to specify the same RGB or RGBA value for all points.\n"
          ]
        },
        {
          "output_type": "display_data",
          "data": {
            "text/plain": [
              "<Figure size 432x288 with 1 Axes>"
            ],
            "image/png": "[encoded data removed]"
          },
          "metadata": {
            "needs_background": "light"
          }
        },
        {
          "output_type": "stream",
          "name": "stdout",
          "text": [
            "error of particle- 1 is (training, test) (7, 78)  At (gamma, c):  [0.3769623  9.26788508]\n",
            "error of particle- 2 is (training, test) (7, 71)  At (gamma, c):  [0.84344674 2.1404577 ]\n",
            "error of particle- 3 is (training, test) (7, 75)  At (gamma, c):  [0.87170811 6.36461746]\n",
            "error of particle- 4 is (training, test) (33, 64)  At (gamma, c):  [0.04239213 9.5297206 ]\n"
          ]
        },
        {
          "output_type": "stream",
          "name": "stderr",
          "text": [
            "WARNING:matplotlib.axes._axes:*c* argument looks like a single numeric RGB or RGBA sequence, which should be avoided as value-mapping will have precedence in case its length matches with *x* & *y*.  Please use the *color* keyword-argument or provide a 2-D array with a single row if you intend to specify the same RGB or RGBA value for all points.\n"
          ]
        },
        {
          "output_type": "stream",
          "name": "stdout",
          "text": [
            "error of particle- 5 is (training, test) (25, 68)  At (gamma, c):  [0.25568367 3.0590098 ]\n"
          ]
        },
        {
          "output_type": "display_data",
          "data": {
            "text/plain": [
              "<Figure size 432x288 with 1 Axes>"
            ],
            "image/png": "[encoded data removed]"
          },
          "metadata": {
            "needs_background": "light"
          }
        },
        {
          "output_type": "stream",
          "name": "stdout",
          "text": [
            "error of particle- 1 is (training, test) (14, 74)  At (gamma, c):  [0.22928787 9.38345548]\n",
            "error of particle- 2 is (training, test) (7, 75)  At (gamma, c):  [0.43089722 5.94598705]\n",
            "error of particle- 3 is (training, test) (7, 77)  At (gamma, c):  [0.55305233 7.58077444]\n",
            "error of particle- 4 is (training, test) (33, 64)  At (gamma, c):  [0.04239213 9.5297206 ]\n"
          ]
        },
        {
          "output_type": "stream",
          "name": "stderr",
          "text": [
            "WARNING:matplotlib.axes._axes:*c* argument looks like a single numeric RGB or RGBA sequence, which should be avoided as value-mapping will have precedence in case its length matches with *x* & *y*.  Please use the *color* keyword-argument or provide a 2-D array with a single row if you intend to specify the same RGB or RGBA value for all points.\n"
          ]
        },
        {
          "output_type": "stream",
          "name": "stdout",
          "text": [
            "error of particle- 5 is (training, test) (24, 71)  At (gamma, c):  [0.22673913 3.93711171]\n"
          ]
        },
        {
          "output_type": "display_data",
          "data": {
            "text/plain": [
              "<Figure size 432x288 with 1 Axes>"
            ],
            "image/png": "[encoded data removed]"
          },
          "metadata": {
            "needs_background": "light"
          }
        },
        {
          "output_type": "stream",
          "name": "stdout",
          "text": [
            "error of particle- 1 is (training, test) (22, 74)  At (gamma, c):  [0.16349201 9.4349475 ]\n",
            "error of particle- 2 is (training, test) (23, 75)  At (gamma, c):  [0.14735461 8.56150275]\n",
            "error of particle- 3 is (training, test) (7, 76)  At (gamma, c):  [0.51543233 7.72435202]\n",
            "error of particle- 4 is (training, test) (33, 64)  At (gamma, c):  [0.04239213 9.5297206 ]\n"
          ]
        },
        {
          "output_type": "stream",
          "name": "stderr",
          "text": [
            "WARNING:matplotlib.axes._axes:*c* argument looks like a single numeric RGB or RGBA sequence, which should be avoided as value-mapping will have precedence in case its length matches with *x* & *y*.  Please use the *color* keyword-argument or provide a 2-D array with a single row if you intend to specify the same RGB or RGBA value for all points.\n"
          ]
        },
        {
          "output_type": "stream",
          "name": "stdout",
          "text": [
            "error of particle- 5 is (training, test) (24, 73)  At (gamma, c):  [0.20448857 4.61213608]\n"
          ]
        },
        {
          "output_type": "display_data",
          "data": {
            "text/plain": [
              "<Figure size 432x288 with 1 Axes>"
            ],
            "image/png": "[encoded data removed]"
          },
          "metadata": {
            "needs_background": "light"
          }
        },
        {
          "output_type": "stream",
          "name": "stdout",
          "text": [
            "error of particle- 1 is (training, test) (22, 74)  At (gamma, c):  [0.15710068 9.43994938]\n",
            "error of particle- 2 is (training, test) (26, 74)  At (gamma, c):  [0.10681853 8.93542448]\n",
            "error of particle- 3 is (training, test) (15, 74)  At (gamma, c):  [0.20494253 8.90934334]\n",
            "error of particle- 4 is (training, test) (33, 64)  At (gamma, c):  [0.04239213 9.5297206 ]\n"
          ]
        },
        {
          "output_type": "stream",
          "name": "stderr",
          "text": [
            "WARNING:matplotlib.axes._axes:*c* argument looks like a single numeric RGB or RGBA sequence, which should be avoided as value-mapping will have precedence in case its length matches with *x* & *y*.  Please use the *color* keyword-argument or provide a 2-D array with a single row if you intend to specify the same RGB or RGBA value for all points.\n"
          ]
        },
        {
          "output_type": "stream",
          "name": "stdout",
          "text": [
            "error of particle- 5 is (training, test) (24, 73)  At (gamma, c):  [0.17764351 5.4265453 ]\n"
          ]
        },
        {
          "output_type": "display_data",
          "data": {
            "text/plain": [
              "<Figure size 432x288 with 1 Axes>"
            ],
            "image/png": "[encoded data removed]"
          },
          "metadata": {
            "needs_background": "light"
          }
        },
        {
          "output_type": "stream",
          "name": "stdout",
          "text": [
            "error of particle- 1 is (training, test) (24, 74)  At (gamma, c):  [0.108959   9.47762519]\n",
            "error of particle- 2 is (training, test) (27, 72)  At (gamma, c):  [0.08294198 9.15567174]\n",
            "error of particle- 3 is (training, test) (22, 75)  At (gamma, c):  [0.14609051 9.13395339]\n",
            "error of particle- 4 is (training, test) (33, 64)  At (gamma, c):  [0.04239213 9.5297206 ]\n"
          ]
        },
        {
          "output_type": "stream",
          "name": "stderr",
          "text": [
            "WARNING:matplotlib.axes._axes:*c* argument looks like a single numeric RGB or RGBA sequence, which should be avoided as value-mapping will have precedence in case its length matches with *x* & *y*.  Please use the *color* keyword-argument or provide a 2-D array with a single row if you intend to specify the same RGB or RGBA value for all points.\n"
          ]
        },
        {
          "output_type": "stream",
          "name": "stdout",
          "text": [
            "error of particle- 5 is (training, test) (24, 73)  At (gamma, c):  [0.17280086 5.57345884]\n"
          ]
        },
        {
          "output_type": "display_data",
          "data": {
            "text/plain": [
              "<Figure size 432x288 with 1 Axes>"
            ],
            "image/png": "[encoded data removed]"
          },
          "metadata": {
            "needs_background": "light"
          }
        },
        {
          "output_type": "stream",
          "name": "stdout",
          "text": [
            "error of particle- 1 is (training, test) (30, 70)  At (gamma, c):  [0.06829775 9.50944679]\n",
            "error of particle- 2 is (training, test) (31, 69)  At (gamma, c):  [0.0690364 9.2839427]\n",
            "error of particle- 3 is (training, test) (23, 75)  At (gamma, c):  [0.12900938 9.1991439 ]\n",
            "error of particle- 4 is (training, test) (33, 64)  At (gamma, c):  [0.04239213 9.5297206 ]\n"
          ]
        },
        {
          "output_type": "stream",
          "name": "stderr",
          "text": [
            "WARNING:matplotlib.axes._axes:*c* argument looks like a single numeric RGB or RGBA sequence, which should be avoided as value-mapping will have precedence in case its length matches with *x* & *y*.  Please use the *color* keyword-argument or provide a 2-D array with a single row if you intend to specify the same RGB or RGBA value for all points.\n"
          ]
        },
        {
          "output_type": "stream",
          "name": "stdout",
          "text": [
            "error of particle- 5 is (training, test) (24, 73)  At (gamma, c):  [0.16007522 5.95952145]\n"
          ]
        },
        {
          "output_type": "display_data",
          "data": {
            "text/plain": [
              "<Figure size 432x288 with 1 Axes>"
            ],
            "image/png": "[encoded data removed]"
          },
          "metadata": {
            "needs_background": "light"
          }
        },
        {
          "output_type": "stream",
          "name": "stdout",
          "text": [
            "error of particle- 1 is (training, test) (32, 69)  At (gamma, c):  [0.05499846 9.51985485]\n",
            "error of particle- 2 is (training, test) (32, 70)  At (gamma, c):  [0.05393917 9.42320586]\n",
            "error of particle- 3 is (training, test) (24, 74)  At (gamma, c):  [0.11945412 9.23561177]\n",
            "error of particle- 4 is (training, test) (33, 64)  At (gamma, c):  [0.04239213 9.5297206 ]\n"
          ]
        },
        {
          "output_type": "stream",
          "name": "stderr",
          "text": [
            "WARNING:matplotlib.axes._axes:*c* argument looks like a single numeric RGB or RGBA sequence, which should be avoided as value-mapping will have precedence in case its length matches with *x* & *y*.  Please use the *color* keyword-argument or provide a 2-D array with a single row if you intend to specify the same RGB or RGBA value for all points.\n"
          ]
        },
        {
          "output_type": "stream",
          "name": "stdout",
          "text": [
            "error of particle- 5 is (training, test) (27, 73)  At (gamma, c):  [0.10963868 7.48963492]\n"
          ]
        },
        {
          "output_type": "display_data",
          "data": {
            "text/plain": [
              "<Figure size 432x288 with 1 Axes>"
            ],
            "image/png": "[encoded data removed]"
          },
          "metadata": {
            "needs_background": "light"
          }
        },
        {
          "output_type": "stream",
          "name": "stdout",
          "text": [
            "error of particle- 1 is (training, test) (33, 69)  At (gamma, c):  [0.049886   9.52385587]\n",
            "error of particle- 2 is (training, test) (33, 69)  At (gamma, c):  [0.0513084  9.44747315]\n",
            "error of particle- 3 is (training, test) (28, 72)  At (gamma, c):  [0.09301127 9.33653149]\n",
            "error of particle- 4 is (training, test) (33, 64)  At (gamma, c):  [0.04239213 9.5297206 ]\n"
          ]
        },
        {
          "output_type": "stream",
          "name": "stderr",
          "text": [
            "WARNING:matplotlib.axes._axes:*c* argument looks like a single numeric RGB or RGBA sequence, which should be avoided as value-mapping will have precedence in case its length matches with *x* & *y*.  Please use the *color* keyword-argument or provide a 2-D array with a single row if you intend to specify the same RGB or RGBA value for all points.\n"
          ]
        },
        {
          "output_type": "stream",
          "name": "stdout",
          "text": [
            "error of particle- 5 is (training, test) (32, 69)  At (gamma, c):  [0.05990215 8.99851206]\n"
          ]
        },
        {
          "output_type": "display_data",
          "data": {
            "text/plain": [
              "<Figure size 432x288 with 1 Axes>"
            ],
            "image/png": "[encoded data removed]"
          },
          "metadata": {
            "needs_background": "light"
          }
        },
        {
          "output_type": "stream",
          "name": "stdout",
          "text": [
            "error of particle- 1 is (training, test) (33, 65)  At (gamma, c):  [0.04563914 9.52717948]\n",
            "error of particle- 2 is (training, test) (33, 65)  At (gamma, c):  [0.04592255 9.49715452]\n",
            "error of particle- 3 is (training, test) (30, 71)  At (gamma, c):  [0.07151804 9.41856091]\n",
            "error of particle- 4 is (training, test) (33, 64)  At (gamma, c):  [0.04239213 9.5297206 ]\n"
          ]
        },
        {
          "output_type": "stream",
          "name": "stderr",
          "text": [
            "WARNING:matplotlib.axes._axes:*c* argument looks like a single numeric RGB or RGBA sequence, which should be avoided as value-mapping will have precedence in case its length matches with *x* & *y*.  Please use the *color* keyword-argument or provide a 2-D array with a single row if you intend to specify the same RGB or RGBA value for all points.\n"
          ]
        },
        {
          "output_type": "stream",
          "name": "stdout",
          "text": [
            "error of particle- 5 is (training, test) (33, 67)  At (gamma, c):  [0.05009813 9.29594059]\n"
          ]
        },
        {
          "output_type": "display_data",
          "data": {
            "text/plain": [
              "<Figure size 432x288 with 1 Axes>"
            ],
            "image/png": "[encoded data removed]"
          },
          "metadata": {
            "needs_background": "light"
          }
        },
        {
          "output_type": "stream",
          "name": "stdout",
          "text": [
            "error of particle- 1 is (training, test) (33, 65)  At (gamma, c):  [0.04536858 9.52739122]\n",
            "error of particle- 2 is (training, test) (33, 64)  At (gamma, c):  [0.04435776 9.5115888 ]\n",
            "error of particle- 3 is (training, test) (31, 68)  At (gamma, c):  [0.06017051 9.46186899]\n",
            "error of particle- 4 is (training, test) (33, 64)  At (gamma, c):  [0.04239213 9.5297206 ]\n",
            "error of particle- 5 is (training, test) (33, 64)  At (gamma, c):  [0.04466635 9.46072642]\n",
            "The best position is  [0.04239213 9.5297206 ] in iteration number 10 with error rate (train, test): (33, 64)\n"
          ]
        }
      ]
    },
    {
      "cell_type": "code",
      "source": [
        "random.seed(20)\n",
        "particle_position_vector = np.array([np.array([random.random(), random.random()*10]) for _ in range(n_particles)])\n",
        "pbest_position = particle_position_vector\n",
        "pbest_fitness_value = np.array([float('inf') for _ in range(n_particles)])\n",
        "gbest_fitness_value = np.array([float('inf'), float('inf')])\n",
        "gbest_position = np.array([float('inf'), float('inf')])\n",
        "\n",
        "velocity_vector = ([np.array([0, 0]) for _ in range(n_particles)])\n",
        "iteration = 0\n",
        "while iteration < n_iterations:\n",
        "    plot(particle_position_vector)\n",
        "    for i in range(n_particles):\n",
        "        fitness_cadidate = fitness_function(particle_position_vector[i])\n",
        "        print(\"error of particle-\",i+1,\"is (training, test)\", fitness_cadidate, \" At (gamma, c): \", particle_position_vector[i])\n",
        "\n",
        "        \n",
        "        if(pbest_fitness_value[i] > fitness_cadidate[1]):\n",
        "            pbest_fitness_value[i] = fitness_cadidate[1]\n",
        "            pbest_position[i] = particle_position_vector[i]\n",
        "            \n",
        "            if(gbest_fitness_value[1] > fitness_cadidate[1]):\n",
        "              gbest_fitness_value = fitness_cadidate\n",
        "              gbest_position = particle_position_vector[i]\n",
        "              \n",
        "              if(gbest_fitness_value[1] == fitness_cadidate[1] and gbest_fitness_value[0] > fitness_cadidate[0]):\n",
        "                gbest_fitness_value = fitness_cadidate\n",
        "                gbest_position = particle_position_vector[i]\n",
        "                \n",
        "\n",
        "    for i in range(n_particles):\n",
        "        new_velocity = W*(velocity_vector[i] + ((c1*random.random()) * (pbest_position[i] - particle_position_vector[i])) + \n",
        "                          ((c2*random.random()) * (gbest_position - particle_position_vector[i])))\n",
        "        \n",
        "            \n",
        "        new_position = new_velocity + particle_position_vector[i]\n",
        "        particle_position_vector[i] = new_position\n",
        "        \n",
        "\n",
        "    iteration = iteration + 1\n",
        "print(\"The best position is \", gbest_position, \"in iteration number\", iteration, \"with error rate (train, test):\", fitness_function(gbest_position))"
      ],
      "metadata": {
        "colab": {
          "base_uri": "https://localhost:8080/",
          "height": 1000
        },
        "id": "CsMrVjojmX57",
        "outputId": "07be4cec-763e-465f-f007-71cd310fb160"
      },
      "execution_count": null,
      "outputs": [
        {
          "output_type": "stream",
          "name": "stderr",
          "text": [
            "WARNING:matplotlib.axes._axes:*c* argument looks like a single numeric RGB or RGBA sequence, which should be avoided as value-mapping will have precedence in case its length matches with *x* & *y*.  Please use the *color* keyword-argument or provide a 2-D array with a single row if you intend to specify the same RGB or RGBA value for all points.\n"
          ]
        },
        {
          "output_type": "display_data",
          "data": {
            "text/plain": [
              "<Figure size 432x288 with 1 Axes>"
            ],
            "image/png": "[encoded data removed]"
          },
          "metadata": {
            "needs_background": "light"
          }
        },
        {
          "output_type": "stream",
          "name": "stdout",
          "text": [
            "error of particle- 1 is (training, test) (7, 75)  At (gamma, c):  [0.90563968 6.86254157]\n",
            "error of particle- 2 is (training, test) (7, 77)  At (gamma, c):  [0.76650926 9.04616238]\n",
            "error of particle- 3 is (training, test) (15, 74)  At (gamma, c):  [0.25982745 6.3572587 ]\n",
            "error of particle- 4 is (training, test) (7, 75)  At (gamma, c):  [0.90494569 8.72130374]\n"
          ]
        },
        {
          "output_type": "stream",
          "name": "stderr",
          "text": [
            "WARNING:matplotlib.axes._axes:*c* argument looks like a single numeric RGB or RGBA sequence, which should be avoided as value-mapping will have precedence in case its length matches with *x* & *y*.  Please use the *color* keyword-argument or provide a 2-D array with a single row if you intend to specify the same RGB or RGBA value for all points.\n"
          ]
        },
        {
          "output_type": "stream",
          "name": "stdout",
          "text": [
            "error of particle- 5 is (training, test) (21, 69)  At (gamma, c):  [0.57294067 1.69378087]\n"
          ]
        },
        {
          "output_type": "display_data",
          "data": {
            "text/plain": [
              "<Figure size 432x288 with 1 Axes>"
            ],
            "image/png": "[encoded data removed]"
          },
          "metadata": {
            "needs_background": "light"
          }
        },
        {
          "output_type": "stream",
          "name": "stdout",
          "text": [
            "error of particle- 1 is (training, test) (7, 74)  At (gamma, c):  [0.74031522 4.29408614]\n",
            "error of particle- 2 is (training, test) (6, 77)  At (gamma, c):  [0.7356216  7.87294599]\n",
            "error of particle- 3 is (training, test) (14, 75)  At (gamma, c):  [0.33018411 5.30937347]\n",
            "error of particle- 4 is (training, test) (7, 75)  At (gamma, c):  [0.85233884 7.60777875]\n"
          ]
        },
        {
          "output_type": "stream",
          "name": "stderr",
          "text": [
            "WARNING:matplotlib.axes._axes:*c* argument looks like a single numeric RGB or RGBA sequence, which should be avoided as value-mapping will have precedence in case its length matches with *x* & *y*.  Please use the *color* keyword-argument or provide a 2-D array with a single row if you intend to specify the same RGB or RGBA value for all points.\n"
          ]
        },
        {
          "output_type": "stream",
          "name": "stdout",
          "text": [
            "error of particle- 5 is (training, test) (21, 69)  At (gamma, c):  [0.57294067 1.69378087]\n"
          ]
        },
        {
          "output_type": "display_data",
          "data": {
            "text/plain": [
              "<Figure size 432x288 with 1 Axes>"
            ],
            "image/png": "[encoded data removed]"
          },
          "metadata": {
            "needs_background": "light"
          }
        },
        {
          "output_type": "stream",
          "name": "stdout",
          "text": [
            "error of particle- 1 is (training, test) (7, 73)  At (gamma, c):  [0.68778607 3.47800135]\n",
            "error of particle- 2 is (training, test) (7, 76)  At (gamma, c):  [0.69559285 6.35252044]\n",
            "error of particle- 3 is (training, test) (14, 74)  At (gamma, c):  [0.39975934 4.27312665]\n",
            "error of particle- 4 is (training, test) (7, 76)  At (gamma, c):  [0.83913379 7.3282685 ]\n"
          ]
        },
        {
          "output_type": "stream",
          "name": "stderr",
          "text": [
            "WARNING:matplotlib.axes._axes:*c* argument looks like a single numeric RGB or RGBA sequence, which should be avoided as value-mapping will have precedence in case its length matches with *x* & *y*.  Please use the *color* keyword-argument or provide a 2-D array with a single row if you intend to specify the same RGB or RGBA value for all points.\n"
          ]
        },
        {
          "output_type": "stream",
          "name": "stdout",
          "text": [
            "error of particle- 5 is (training, test) (21, 69)  At (gamma, c):  [0.57294067 1.69378087]\n"
          ]
        },
        {
          "output_type": "display_data",
          "data": {
            "text/plain": [
              "<Figure size 432x288 with 1 Axes>"
            ],
            "image/png": "[encoded data removed]"
          },
          "metadata": {
            "needs_background": "light"
          }
        },
        {
          "output_type": "stream",
          "name": "stdout",
          "text": [
            "error of particle- 1 is (training, test) (7, 71)  At (gamma, c):  [0.64815006 2.86222242]\n",
            "error of particle- 2 is (training, test) (7, 76)  At (gamma, c):  [0.68837496 6.07836086]\n",
            "error of particle- 3 is (training, test) (14, 73)  At (gamma, c):  [0.46087362 3.36289653]\n",
            "error of particle- 4 is (training, test) (7, 76)  At (gamma, c):  [0.80989705 6.70941691]\n"
          ]
        },
        {
          "output_type": "stream",
          "name": "stderr",
          "text": [
            "WARNING:matplotlib.axes._axes:*c* argument looks like a single numeric RGB or RGBA sequence, which should be avoided as value-mapping will have precedence in case its length matches with *x* & *y*.  Please use the *color* keyword-argument or provide a 2-D array with a single row if you intend to specify the same RGB or RGBA value for all points.\n"
          ]
        },
        {
          "output_type": "stream",
          "name": "stdout",
          "text": [
            "error of particle- 5 is (training, test) (21, 69)  At (gamma, c):  [0.57294067 1.69378087]\n"
          ]
        },
        {
          "output_type": "display_data",
          "data": {
            "text/plain": [
              "<Figure size 432x288 with 1 Axes>"
            ],
            "image/png": "[encoded data removed]"
          },
          "metadata": {
            "needs_background": "light"
          }
        },
        {
          "output_type": "stream",
          "name": "stdout",
          "text": [
            "error of particle- 1 is (training, test) (7, 71)  At (gamma, c):  [0.6368406  2.68652032]\n",
            "error of particle- 2 is (training, test) (7, 75)  At (gamma, c):  [0.65103927 4.66022643]\n",
            "error of particle- 3 is (training, test) (14, 73)  At (gamma, c):  [0.48594238 2.98952491]\n",
            "error of particle- 4 is (training, test) (7, 75)  At (gamma, c):  [0.7342285  5.10774711]\n"
          ]
        },
        {
          "output_type": "stream",
          "name": "stderr",
          "text": [
            "WARNING:matplotlib.axes._axes:*c* argument looks like a single numeric RGB or RGBA sequence, which should be avoided as value-mapping will have precedence in case its length matches with *x* & *y*.  Please use the *color* keyword-argument or provide a 2-D array with a single row if you intend to specify the same RGB or RGBA value for all points.\n"
          ]
        },
        {
          "output_type": "stream",
          "name": "stdout",
          "text": [
            "error of particle- 5 is (training, test) (21, 69)  At (gamma, c):  [0.57294067 1.69378087]\n"
          ]
        },
        {
          "output_type": "display_data",
          "data": {
            "text/plain": [
              "<Figure size 432x288 with 1 Axes>"
            ],
            "image/png": "[encoded data removed]"
          },
          "metadata": {
            "needs_background": "light"
          }
        },
        {
          "output_type": "stream",
          "name": "stdout",
          "text": [
            "error of particle- 1 is (training, test) (12, 73)  At (gamma, c):  [0.60716438 2.22547513]\n",
            "error of particle- 2 is (training, test) (7, 73)  At (gamma, c):  [0.62410295 3.63709509]\n",
            "error of particle- 3 is (training, test) (15, 73)  At (gamma, c):  [0.51118761 2.61352494]\n",
            "error of particle- 4 is (training, test) (7, 75)  At (gamma, c):  [0.72484571 4.90914224]\n"
          ]
        },
        {
          "output_type": "stream",
          "name": "stderr",
          "text": [
            "WARNING:matplotlib.axes._axes:*c* argument looks like a single numeric RGB or RGBA sequence, which should be avoided as value-mapping will have precedence in case its length matches with *x* & *y*.  Please use the *color* keyword-argument or provide a 2-D array with a single row if you intend to specify the same RGB or RGBA value for all points.\n"
          ]
        },
        {
          "output_type": "stream",
          "name": "stdout",
          "text": [
            "error of particle- 5 is (training, test) (21, 69)  At (gamma, c):  [0.57294067 1.69378087]\n"
          ]
        },
        {
          "output_type": "display_data",
          "data": {
            "text/plain": [
              "<Figure size 432x288 with 1 Axes>"
            ],
            "image/png": "[encoded data removed]"
          },
          "metadata": {
            "needs_background": "light"
          }
        },
        {
          "output_type": "stream",
          "name": "stdout",
          "text": [
            "error of particle- 1 is (training, test) (14, 72)  At (gamma, c):  [0.59017855 1.96158601]\n",
            "error of particle- 2 is (training, test) (7, 72)  At (gamma, c):  [0.62116543 3.5255183 ]\n",
            "error of particle- 3 is (training, test) (15, 73)  At (gamma, c):  [0.51124936 2.61260529]\n",
            "error of particle- 4 is (training, test) (7, 74)  At (gamma, c):  [0.70089585 4.40219756]\n"
          ]
        },
        {
          "output_type": "stream",
          "name": "stderr",
          "text": [
            "WARNING:matplotlib.axes._axes:*c* argument looks like a single numeric RGB or RGBA sequence, which should be avoided as value-mapping will have precedence in case its length matches with *x* & *y*.  Please use the *color* keyword-argument or provide a 2-D array with a single row if you intend to specify the same RGB or RGBA value for all points.\n"
          ]
        },
        {
          "output_type": "stream",
          "name": "stdout",
          "text": [
            "error of particle- 5 is (training, test) (21, 69)  At (gamma, c):  [0.57294067 1.69378087]\n"
          ]
        },
        {
          "output_type": "display_data",
          "data": {
            "text/plain": [
              "<Figure size 432x288 with 1 Axes>"
            ],
            "image/png": "[encoded data removed]"
          },
          "metadata": {
            "needs_background": "light"
          }
        },
        {
          "output_type": "stream",
          "name": "stdout",
          "text": [
            "error of particle- 1 is (training, test) (17, 72)  At (gamma, c):  [0.58360301 1.85942929]\n",
            "error of particle- 2 is (training, test) (7, 71)  At (gamma, c):  [0.60507416 2.91431804]\n",
            "error of particle- 3 is (training, test) (14, 73)  At (gamma, c):  [0.52529103 2.40346998]\n",
            "error of particle- 4 is (training, test) (7, 74)  At (gamma, c):  [0.69621894 4.30320181]\n"
          ]
        },
        {
          "output_type": "stream",
          "name": "stderr",
          "text": [
            "WARNING:matplotlib.axes._axes:*c* argument looks like a single numeric RGB or RGBA sequence, which should be avoided as value-mapping will have precedence in case its length matches with *x* & *y*.  Please use the *color* keyword-argument or provide a 2-D array with a single row if you intend to specify the same RGB or RGBA value for all points.\n"
          ]
        },
        {
          "output_type": "stream",
          "name": "stdout",
          "text": [
            "error of particle- 5 is (training, test) (21, 69)  At (gamma, c):  [0.57294067 1.69378087]\n"
          ]
        },
        {
          "output_type": "display_data",
          "data": {
            "text/plain": [
              "<Figure size 432x288 with 1 Axes>"
            ],
            "image/png": "[encoded data removed]"
          },
          "metadata": {
            "needs_background": "light"
          }
        },
        {
          "output_type": "stream",
          "name": "stdout",
          "text": [
            "error of particle- 1 is (training, test) (17, 72)  At (gamma, c):  [0.58314496 1.85231318]\n",
            "error of particle- 2 is (training, test) (11, 71)  At (gamma, c):  [0.60023792 2.73062173]\n",
            "error of particle- 3 is (training, test) (14, 73)  At (gamma, c):  [0.52593774 2.39383791]\n",
            "error of particle- 4 is (training, test) (7, 74)  At (gamma, c):  [0.66499008 3.64218303]\n"
          ]
        },
        {
          "output_type": "stream",
          "name": "stderr",
          "text": [
            "WARNING:matplotlib.axes._axes:*c* argument looks like a single numeric RGB or RGBA sequence, which should be avoided as value-mapping will have precedence in case its length matches with *x* & *y*.  Please use the *color* keyword-argument or provide a 2-D array with a single row if you intend to specify the same RGB or RGBA value for all points.\n"
          ]
        },
        {
          "output_type": "stream",
          "name": "stdout",
          "text": [
            "error of particle- 5 is (training, test) (21, 69)  At (gamma, c):  [0.57294067 1.69378087]\n"
          ]
        },
        {
          "output_type": "display_data",
          "data": {
            "text/plain": [
              "<Figure size 432x288 with 1 Axes>"
            ],
            "image/png": "[encoded data removed]"
          },
          "metadata": {
            "needs_background": "light"
          }
        },
        {
          "output_type": "stream",
          "name": "stdout",
          "text": [
            "error of particle- 1 is (training, test) (17, 71)  At (gamma, c):  [0.58045461 1.81051626]\n",
            "error of particle- 2 is (training, test) (12, 72)  At (gamma, c):  [0.59597828 2.56882616]\n",
            "error of particle- 3 is (training, test) (15, 73)  At (gamma, c):  [0.5324016 2.2975658]\n",
            "error of particle- 4 is (training, test) (7, 71)  At (gamma, c):  [0.6549566 3.4298053]\n",
            "error of particle- 5 is (training, test) (21, 69)  At (gamma, c):  [0.57294067 1.69378087]\n",
            "The best position is  [0.57294067 1.69378087] in iteration number 10 with error rate (train, test): (21, 69)\n"
          ]
        }
      ]
    },
    {
      "cell_type": "code",
      "source": [
        "random.seed(12345)\n",
        "particle_position_vector = np.array([np.array([random.random(), random.random()*10]) for _ in range(n_particles)])\n",
        "pbest_position = particle_position_vector\n",
        "pbest_fitness_value = np.array([float('inf') for _ in range(n_particles)])\n",
        "gbest_fitness_value = np.array([float('inf'), float('inf')])\n",
        "gbest_position = np.array([float('inf'), float('inf')])\n",
        "\n",
        "velocity_vector = ([np.array([0, 0]) for _ in range(n_particles)])\n",
        "iteration = 0\n",
        "while iteration < n_iterations:\n",
        "    plot(particle_position_vector)\n",
        "    for i in range(n_particles):\n",
        "        fitness_cadidate = fitness_function(particle_position_vector[i])\n",
        "        print(\"error of particle-\",i+1,\"is (training, test)\", fitness_cadidate, \" At (gamma, c): \", particle_position_vector[i])\n",
        "\n",
        "        \n",
        "        if(pbest_fitness_value[i] > fitness_cadidate[1]):\n",
        "            pbest_fitness_value[i] = fitness_cadidate[1]\n",
        "            pbest_position[i] = particle_position_vector[i]\n",
        "            \n",
        "            if(gbest_fitness_value[1] > fitness_cadidate[1]):\n",
        "              gbest_fitness_value = fitness_cadidate\n",
        "              gbest_position = particle_position_vector[i]\n",
        "              \n",
        "              if(gbest_fitness_value[1] == fitness_cadidate[1] and gbest_fitness_value[0] > fitness_cadidate[0]):\n",
        "                gbest_fitness_value = fitness_cadidate\n",
        "                gbest_position = particle_position_vector[i]\n",
        "                \n",
        "\n",
        "    for i in range(n_particles):\n",
        "        #max_velocity = np.array([1,10])\n",
        "        #min_velocity = np.array([-1,-100])\n",
        "        #max_position = np.array([1,10])\n",
        "        #min_position = np.array([0.01, 0.1])\n",
        "        new_velocity = W*(velocity_vector[i] + ((c1*random.random()) * (pbest_position[i] - particle_position_vector[i])) + \n",
        "                          ((c2*random.random()) * (gbest_position - particle_position_vector[i])))\n",
        "        \n",
        "        #for j in range(0,len(new_velocity)):\n",
        "            #if(new_velocity[j] > max_velocity[j]):\n",
        "                #new_velocity[j] = max_velocity[j]\n",
        "            #elif(new_velocity[j] < min_velocity[j]):\n",
        "                #new_velocity[j] = min_velocity[j]\n",
        "            \n",
        "        new_position = new_velocity + particle_position_vector[i]\n",
        "        particle_position_vector[i] = new_position\n",
        "        \n",
        "        #for j in range(0,2):\n",
        "            #if(particle_position_vector[i][j] > max_position[j]):\n",
        "                ##particle_position_vector[i][j] = max_position[j]\n",
        "            #elif(particle_position_vector[i][j] < min_position[j]):\n",
        "                #particle_position_vector[i][j] = min_position[j]\n",
        "\n",
        "    iteration = iteration + 1\n",
        "print(\"The best position is \", gbest_position, \"in iteration number\", iteration, \"with error rate (train, test):\", fitness_function(gbest_position))"
      ],
      "metadata": {
        "id": "zfFEbSS0D_h4"
      },
      "execution_count": null,
      "outputs": []
    },
    {
      "cell_type": "code",
      "execution_count": null,
      "metadata": {
        "id": "ZeV-Z3GBKYRN"
      },
      "outputs": [],
      "source": [
        "random.seed(1)\n",
        "particle_position_vector = np.array([np.array([random.random()*10, random.random()*10]) for _ in range(n_particles)])\n",
        "pbest_position = particle_position_vector\n",
        "pbest_fitness_value = np.array([float('inf') for _ in range(n_particles)])\n",
        "gbest_fitness_value = np.array([float('inf'), float('inf')])\n",
        "gbest_position = np.array([float('inf'), float('inf')])\n",
        "\n",
        "velocity_vector = ([np.array([0, 0]) for _ in range(n_particles)])\n",
        "iteration = 0\n",
        "while iteration < n_iterations:\n",
        "    plot(particle_position_vector)\n",
        "    for i in range(n_particles):\n",
        "        fitness_cadidate = fitness_function(particle_position_vector[i])\n",
        "        print(\"error of particle-\",i,\"is (training, test)\", fitness_cadidate, \" At (gamma, c): \", particle_position_vector[i])\n",
        "        \n",
        "        if(pbest_fitness_value[i] > fitness_cadidate[0]):\n",
        "            pbest_fitness_value[i] = fitness_cadidate[0]\n",
        "            pbest_position[i] = particle_position_vector[i]\n",
        "\n",
        "        if(gbest_fitness_value[1] > fitness_cadidate[1]):\n",
        "            gbest_fitness_value[i] = fitness_cadidate[1]\n",
        "            gbest_position = particle_position_vector[i]\n",
        "\n",
        "        elif(gbest_fitness_value[1] == fitness_cadidate[1] and gbest_fitness_value[0] > fitness_cadidate[0]):\n",
        "            gbest_fitness_value = fitness_cadidate\n",
        "            gbest_position = particle_position_vector[i]\n",
        "            \n",
        "    for i in range(n_particles):\n",
        "      #new_velocity[i] = w*velocity[i] + c1*r1*(pbest[i]-particle[i])+c2*r2*(gbest[i]-particle[i])\n",
        "      new_velocity = (W*velocity_vector[i]) + (c1*random.random()) * (pbest_position[i] - particle_position_vector[i]) + (c2*random.random()) * (gbest_position-particle_position_vector[i])                                                                                                                                      \n",
        "      new_position = new_velocity + particle_position_vector[i]\n",
        "      particle_position_vector[i] = new_position.round(2)\n",
        "        \n",
        "    iteration = iteration + 1\n",
        "    \n",
        "print(\"The best position is \", gbest_position, \"in iteration number\", iteration, \"with error (train, test):\", fitness_function(gbest_position))"
      ]
    },
    {
      "cell_type": "code",
      "source": [
        "\n",
        "random.seed(5)\n",
        "print(random.random())"
      ],
      "metadata": {
        "colab": {
          "base_uri": "https://localhost:8080/"
        },
        "id": "BOd354qzeOTI",
        "outputId": "c7388cbd-e991-4fb7-9d45-0ef9c493c074"
      },
      "execution_count": null,
      "outputs": [
        {
          "output_type": "stream",
          "name": "stdout",
          "text": [
            "0.6229016948897019\n"
          ]
        }
      ]
    },
    {
      "cell_type": "markdown",
      "source": [
        "# **SVM-PSO Baru**"
      ],
      "metadata": {
        "id": "lX1NBx2kMoXv"
      }
    },
    {
      "cell_type": "code",
      "source": [
        "import random\n",
        "import numpy as np\n",
        "from matplotlib import pyplot as plt\n",
        "from matplotlib import animation"
      ],
      "metadata": {
        "id": "ayp03vM5Mm0W"
      },
      "execution_count": null,
      "outputs": []
    },
    {
      "cell_type": "code",
      "source": [
        "population = 100\n",
        "dimension = 2\n",
        "position_min = -100.0\n",
        "position_max = 100.0\n",
        "generation = 400\n",
        "fitness_criterion = 10e-4"
      ],
      "metadata": {
        "id": "_SJ4bsMbOkKB"
      },
      "execution_count": null,
      "outputs": []
    },
    {
      "cell_type": "code",
      "source": [
        "def fitness_function(position):\n",
        "  svclassifier = SVC(kernel='rbf', gamma = position[0], C = position[1] )  \n",
        "  svclassifier.fit(Train_X_Tfidf,Train_Y)\n",
        "  y_train_pred = svclassifier.predict(Train_X_Tfidf)\n",
        "  y_test_pred = svclassifier.predict(Test_X_Tfidf)   \n",
        "  return confusion_matrix(y_train,y_train_pred)[0][1] + confusion_matrix(y_train,y_train_pred)[1][0], confusion_matrix(y_test,y_test_pred)[0][1] + confusion_matrix(y_test,y_test_pred)[1][0]"
      ],
      "metadata": {
        "id": "OVaxIYYZNDSf"
      },
      "execution_count": null,
      "outputs": []
    },
    {
      "cell_type": "code",
      "source": [
        "def update_velocity(particle, velocity, pbest, gbest, w_min=0.5, max=1.0, c=0.1):\n",
        "  # Initialise new velocity array\n",
        "  num_particle = len(particle)\n",
        "  new_velocity = np.array([0.0 for i in range(num_particle)])\n",
        "  # Randomly generate r1, r2 and inertia weight from normal distribution\n",
        "  r1 = random.uniform(0,max)\n",
        "  r2 = random.uniform(0,max)\n",
        "  w = random.uniform(w_min,max)\n",
        "  c1 = c\n",
        "  c2 = c\n",
        "  # Calculate new velocity\n",
        "  for i in range(num_particle):\n",
        "    new_velocity[i] = w*velocity[i] + c1*r1*(pbest[i]-particle[i])+c2*r2*(gbest[i]-particle[i])\n",
        "  return new_velocity"
      ],
      "metadata": {
        "id": "lbw6r7SsNLSL"
      },
      "execution_count": null,
      "outputs": []
    },
    {
      "cell_type": "code",
      "source": [
        "def update_position(particle, velocity):\n",
        "  # Move particles by adding velocity\n",
        "  new_particle = particle + velocity\n",
        "  return new_particle"
      ],
      "metadata": {
        "id": "Iwdsx_t5NcZV"
      },
      "execution_count": null,
      "outputs": []
    },
    {
      "cell_type": "code",
      "source": [
        "def pso_2d(population, dimension, position_min, position_max, generation, fitness_criterion):\n",
        "  # Initialisation\n",
        "  # Population\n",
        "  #particle_position_vector = np.array([np.array([random.random()*10, random.random()*10]) for _ in range(n_particles)])\n",
        "  particles = np.array([np.array([random.uniform(position_min, position_max)]) for j in range(dimension) for i in range(population)])\n",
        "  #[[random.uniform(position_min, position_max) for j in range(dimension)] for i in range(population)]\n",
        "  # Particle's best position\n",
        "  pbest_position = particles\n",
        "  # Fitness\n",
        "  #a = np.array([float('inf'), float('inf')]\n",
        "  for p in particles :\n",
        "    x = np.array([fitness_function(p[0],p[1])])\n",
        "    pbest_fitness = p.append(x)\n",
        "  #pbest_fitness = [fitness_function(p[0],p[1]) for p in particles]\n",
        "  \n",
        "  # Index of the best particle\n",
        "  gbest_index = np.argmin(pbest_fitness)\n",
        "  # Global best particle position\n",
        "  gbest_position = pbest_position[gbest_index]\n",
        "  # Velocity (starting from 0 speed)\n",
        "  velocity = [[0.0 for j in range(dimension)] for i in range(population)]\n",
        "\n",
        "  # Loop for the number of generation\n",
        "  for t in range(generation):\n",
        "    # Stop if the average fitness value reached a predefined success criterion\n",
        "    if np.average(pbest_fitness) <= fitness_criterion:\n",
        "      break\n",
        "    else:\n",
        "      for n in range(population):\n",
        "        # Update the velocity of each particle\n",
        "        velocity[n] = update_velocity(particles[n], velocity[n], pbest_position[n], gbest_position)\n",
        "        # Move the particles to new position\n",
        "        particles[n] = update_position(particles[n], velocity[n])\n",
        "    # Calculate the fitness value\n",
        "    pbest_fitness = [fitness_function(p[0],p[1]) for p in particles]\n",
        "    # Find the index of the best particle\n",
        "    gbest_index = np.argmin(pbest_fitness)\n",
        "    # Update the position of the best particle\n",
        "    gbest_position = pbest_position[gbest_index]\n",
        "\n",
        "  # Print the results\n",
        "  print('Global Best Position: ', gbest_position)\n",
        "  print('Best Fitness Value: ', min(pbest_fitness))\n",
        "  print('Average Particle Best Fitness Value: ', np.average(pbest_fitness))\n",
        "  print('Number of Generation: ', t)"
      ],
      "metadata": {
        "id": "5lBIEzONNgLe"
      },
      "execution_count": null,
      "outputs": []
    },
    {
      "cell_type": "code",
      "source": [
        "pso_2d(population, dimension, position_min, position_max, generation, fitness_criterion)"
      ],
      "metadata": {
        "colab": {
          "base_uri": "https://localhost:8080/",
          "height": 287
        },
        "id": "vBaRwAwROu1o",
        "outputId": "0d2ff690-b3a9-475e-ee39-da73f638dbaf"
      },
      "execution_count": null,
      "outputs": [
        {
          "output_type": "error",
          "ename": "IndexError",
          "evalue": "ignored",
          "traceback": [
            "\u001b[0;31m---------------------------------------------------------------------------\u001b[0m",
            "\u001b[0;31mIndexError\u001b[0m                                Traceback (most recent call last)",
            "\u001b[0;32m<ipython-input-46-fd966c997fdc>\u001b[0m in \u001b[0;36m<module>\u001b[0;34m\u001b[0m\n\u001b[0;32m----> 1\u001b[0;31m \u001b[0mpso_2d\u001b[0m\u001b[0;34m(\u001b[0m\u001b[0mpopulation\u001b[0m\u001b[0;34m,\u001b[0m \u001b[0mdimension\u001b[0m\u001b[0;34m,\u001b[0m \u001b[0mposition_min\u001b[0m\u001b[0;34m,\u001b[0m \u001b[0mposition_max\u001b[0m\u001b[0;34m,\u001b[0m \u001b[0mgeneration\u001b[0m\u001b[0;34m,\u001b[0m \u001b[0mfitness_criterion\u001b[0m\u001b[0;34m)\u001b[0m\u001b[0;34m\u001b[0m\u001b[0;34m\u001b[0m\u001b[0m\n\u001b[0m",
            "\u001b[0;32m<ipython-input-45-99e0652b056f>\u001b[0m in \u001b[0;36mpso_2d\u001b[0;34m(population, dimension, position_min, position_max, generation, fitness_criterion)\u001b[0m\n\u001b[1;32m     10\u001b[0m   \u001b[0;31m#a = np.array([float('inf'), float('inf')]\u001b[0m\u001b[0;34m\u001b[0m\u001b[0;34m\u001b[0m\u001b[0;34m\u001b[0m\u001b[0m\n\u001b[1;32m     11\u001b[0m   \u001b[0;32mfor\u001b[0m \u001b[0mp\u001b[0m \u001b[0;32min\u001b[0m \u001b[0mparticles\u001b[0m \u001b[0;34m:\u001b[0m\u001b[0;34m\u001b[0m\u001b[0;34m\u001b[0m\u001b[0m\n\u001b[0;32m---> 12\u001b[0;31m     \u001b[0mx\u001b[0m \u001b[0;34m=\u001b[0m \u001b[0mnp\u001b[0m\u001b[0;34m.\u001b[0m\u001b[0marray\u001b[0m\u001b[0;34m(\u001b[0m\u001b[0;34m[\u001b[0m\u001b[0mfitness_function\u001b[0m\u001b[0;34m(\u001b[0m\u001b[0mp\u001b[0m\u001b[0;34m[\u001b[0m\u001b[0;36m0\u001b[0m\u001b[0;34m]\u001b[0m\u001b[0;34m,\u001b[0m\u001b[0mp\u001b[0m\u001b[0;34m[\u001b[0m\u001b[0;36m1\u001b[0m\u001b[0;34m]\u001b[0m\u001b[0;34m)\u001b[0m\u001b[0;34m]\u001b[0m\u001b[0;34m)\u001b[0m\u001b[0;34m\u001b[0m\u001b[0;34m\u001b[0m\u001b[0m\n\u001b[0m\u001b[1;32m     13\u001b[0m     \u001b[0mpbest_fitness\u001b[0m \u001b[0;34m=\u001b[0m \u001b[0mp\u001b[0m\u001b[0;34m.\u001b[0m\u001b[0mappend\u001b[0m\u001b[0;34m(\u001b[0m\u001b[0mx\u001b[0m\u001b[0;34m)\u001b[0m\u001b[0;34m\u001b[0m\u001b[0;34m\u001b[0m\u001b[0m\n\u001b[1;32m     14\u001b[0m   \u001b[0;31m#pbest_fitness = [fitness_function(p[0],p[1]) for p in particles]\u001b[0m\u001b[0;34m\u001b[0m\u001b[0;34m\u001b[0m\u001b[0;34m\u001b[0m\u001b[0m\n",
            "\u001b[0;31mIndexError\u001b[0m: index 1 is out of bounds for axis 0 with size 1"
          ]
        }
      ]
    },
    {
      "cell_type": "code",
      "execution_count": null,
      "metadata": {
        "colab": {
          "base_uri": "https://localhost:8080/"
        },
        "id": "XWNXuNBHQNk_",
        "outputId": "631d1610-0057-4dc4-82ee-d762657a5564"
      },
      "outputs": [
        {
          "output_type": "stream",
          "name": "stdout",
          "text": [
            "Confusion Matrix: \n",
            "[[ 61  83]\n",
            " [ 17 265]]\n",
            "\n",
            "Classifiction Report :\n",
            "              precision    recall  f1-score   support\n",
            "\n",
            "           0       0.78      0.42      0.55       144\n",
            "           1       0.76      0.94      0.84       282\n",
            "\n",
            "    accuracy                           0.77       426\n",
            "   macro avg       0.77      0.68      0.70       426\n",
            "weighted avg       0.77      0.77      0.74       426\n",
            "\n"
          ]
        }
      ],
      "source": [
        "# Classifier - Algorithm - SVM\n",
        "# fit the training dataset on the classifier\n",
        "#GAMMA C\n",
        "#7.77 3.92\n",
        "SVM = svm.SVC(C= 0.9, kernel='rbf', gamma=0.6)\n",
        "SVM.fit(Train_X_Tfidf,Train_Y)\n",
        "# predict the labels on validation dataset\n",
        "predictions_SVM = SVM.predict(Test_X_Tfidf)\n",
        "# Use accuracy_score function to get the accuracy\n",
        "print(\"Confusion Matrix: \")\n",
        "print(confusion_matrix(Test_Y, predictions_SVM))\n",
        "print()\n",
        "print(\"Classifiction Report :\")\n",
        "print(classification_report(Test_Y, predictions_SVM))"
      ]
    },
    {
      "cell_type": "markdown",
      "metadata": {
        "id": "12IOlNW57o6N"
      },
      "source": [
        "# **SVM-PSO**\n"
      ]
    },
    {
      "cell_type": "code",
      "execution_count": null,
      "metadata": {
        "id": "Lfyokz0N8KwZ"
      },
      "outputs": [],
      "source": [
        "import math"
      ]
    },
    {
      "cell_type": "code",
      "execution_count": null,
      "metadata": {
        "id": "49bJC4qy7oqZ"
      },
      "outputs": [],
      "source": [
        "#berdasarkan paper\n",
        "K = 0.3\n",
        "c1 = 2.05\n",
        "c2 = 2.05\n",
        "c = c1 + c2\n",
        "khi = 2*K/(abs(2-c-math.sqrt(c**2-4*c)))\n",
        "n_iterations = 10\n",
        "n_particles = 100"
      ]
    },
    {
      "cell_type": "code",
      "execution_count": null,
      "metadata": {
        "id": "HgA37CoP8UVz"
      },
      "outputs": [],
      "source": [
        "#mencari nilai 0-1 loss dari tiap partikel\n",
        "#partikle = (gamma,C) untuk rbf\n",
        "def fitness_function(position):\n",
        "    kf = KFold(n_splits = 3)\n",
        "    svclassifier = SVC(kernel='rbf', gamma = position[0], C = position[1] )  \n",
        "   # svclassifier.fit(X_train, y_train)\n",
        "    scores = cross_val_score(svclassifier, X, y, cv = kf, scoring = 'roc_auc')\n",
        "    return np.mean(scores)\n",
        "   # y_train_pred = svclassifier.predict(X_train)\n",
        "   # y_test_pred = svclassifier.predict(X_test)   \n",
        "   # return (confusion_matrix(y_train,y_train_pred)[0][1] + confusion_matrix(y_train,y_train_pred)[1][0])/np.sum(confusion_matrix(y_train,y_train_pred)), (confusion_matrix(y_test,y_test_pred)[0][1] + confusion_matrix(y_test,y_test_pred)[1][0])/np.sum(confusion_matrix(y_test,y_test_pred))\n"
      ]
    }
  ],
  "metadata": {
    "colab": {
      "provenance": [],
      "collapsed_sections": [
        "thIZY95GTPFd",
        "12IOlNW57o6N"
      ]
    },
    "kernelspec": {
      "display_name": "Python 3",
      "name": "python3"
    },
    "language_info": {
      "name": "python"
    }
  },
  "nbformat": 4,
  "nbformat_minor": 0
}