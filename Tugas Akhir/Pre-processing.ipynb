{
  "nbformat": 4,
  "nbformat_minor": 0,
  "metadata": {
    "colab": {
      "provenance": []
    },
    "kernelspec": {
      "name": "python3",
      "display_name": "Python 3"
    },
    "language_info": {
      "name": "python"
    }
  },
  "cells": [
    {
      "cell_type": "code",
      "execution_count": null,
      "metadata": {
        "colab": {
          "base_uri": "https://localhost:8080/"
        },
        "id": "DQdetd2d2RxJ",
        "outputId": "2f06ca07-dca6-4689-d9e6-71efa45da5b2"
      },
      "outputs": [
        {
          "output_type": "stream",
          "name": "stdout",
          "text": [
            "Looking in indexes: https://pypi.org/simple, https://us-python.pkg.dev/colab-wheels/public/simple/\n",
            "Collecting PySastrawi\n",
            "  Downloading PySastrawi-1.2.0-py2.py3-none-any.whl (210 kB)\n",
            "\u001b[K     |████████████████████████████████| 210 kB 4.9 MB/s \n",
            "\u001b[?25hInstalling collected packages: PySastrawi\n",
            "Successfully installed PySastrawi-1.2.0\n"
          ]
        }
      ],
      "source": [
        " pip install PySastrawi"
      ]
    },
    {
      "cell_type": "code",
      "source": [
        "import pandas as pd\n",
        "from Sastrawi.Stemmer.StemmerFactory import StemmerFactory\n",
        "from nltk.tokenize import word_tokenize\n",
        "from nltk.tokenize import sent_tokenize\n",
        "from nltk.corpus import stopwords\n",
        "\n",
        "import numpy as np \n",
        "from math import log "
      ],
      "metadata": {
        "id": "It5pLR9S2XNG"
      },
      "execution_count": null,
      "outputs": []
    },
    {
      "cell_type": "code",
      "source": [
        "import nltk\n",
        "nltk.download('punkt')"
      ],
      "metadata": {
        "colab": {
          "base_uri": "https://localhost:8080/"
        },
        "id": "90G5JbeU2Zrp",
        "outputId": "20b9f2a0-cd44-496a-b365-91e9da818866"
      },
      "execution_count": null,
      "outputs": [
        {
          "output_type": "stream",
          "name": "stderr",
          "text": [
            "[nltk_data] Downloading package punkt to /root/nltk_data...\n",
            "[nltk_data]   Unzipping tokenizers/punkt.zip.\n"
          ]
        },
        {
          "output_type": "execute_result",
          "data": {
            "text/plain": [
              "True"
            ]
          },
          "metadata": {},
          "execution_count": 3
        }
      ]
    },
    {
      "cell_type": "code",
      "source": [
        "import nltk\n",
        "nltk.download('stopwords')"
      ],
      "metadata": {
        "colab": {
          "base_uri": "https://localhost:8080/"
        },
        "id": "Gc0SzUDI2aRJ",
        "outputId": "ba0f007b-9ab6-4eee-b10d-d78d9361c0ae"
      },
      "execution_count": null,
      "outputs": [
        {
          "output_type": "stream",
          "name": "stderr",
          "text": [
            "[nltk_data] Downloading package stopwords to /root/nltk_data...\n",
            "[nltk_data]   Unzipping corpora/stopwords.zip.\n"
          ]
        },
        {
          "output_type": "execute_result",
          "data": {
            "text/plain": [
              "True"
            ]
          },
          "metadata": {},
          "execution_count": 4
        }
      ]
    },
    {
      "cell_type": "code",
      "source": [
        "import re"
      ],
      "metadata": {
        "id": "0wDzZ5Kt2deD"
      },
      "execution_count": null,
      "outputs": []
    },
    {
      "cell_type": "markdown",
      "source": [
        "Baca Data"
      ],
      "metadata": {
        "id": "zIgBEk-12jLm"
      }
    },
    {
      "cell_type": "code",
      "source": [
        "#Data tweet\n",
        "tweet = pd.read_csv('Data Tweet Eksperimen 1.csv', encoding='utf-8')"
      ],
      "metadata": {
        "id": "ZaOQeUNn2kLV"
      },
      "execution_count": null,
      "outputs": []
    },
    {
      "cell_type": "markdown",
      "source": [
        "Cleaning"
      ],
      "metadata": {
        "id": "IrH0xnMK2gtl"
      }
    },
    {
      "cell_type": "code",
      "source": [
        "#Function menghapus angka dan tanda baca\n",
        "def removeNonWord(doc): \n",
        "    \n",
        "    #hapus seluruh kata yang mengandung angka, contoh: perempuan2 \n",
        "    result = doc.replace({'\\w*\\d\\w*': ''}, regex=True)\n",
        "\n",
        "    #menghilangkan URL\n",
        "    result = result.replace({'https:\\/\\/.*': ' '}, regex=True) \n",
        "\n",
        "    #menghapus hashtag\n",
        "    result = result.replace({'#([^\\s]+)': ' '}, regex=True)\n",
        " \n",
        "    #hapus seluruh karakter yang tidak termasuk alphabet \n",
        "    result = result.replace({'[\\W_]+': ' '}, regex=True) \n",
        "\n",
        "    #menghapus mention\n",
        "    result = result.replace({'@[\\w\\d]*': ' '}, regex=True)\n",
        "\n",
        "    #hilangin retweet\n",
        "    result = result.replace({'^rt[\\s]+': ' '}, regex=True)\n",
        " \n",
        "    #remove null dari hasil final \n",
        "    return result[result.notnull()] "
      ],
      "metadata": {
        "id": "gGg74VIo2h58"
      },
      "execution_count": null,
      "outputs": []
    },
    {
      "cell_type": "code",
      "source": [
        "#Lowercasing dan Menghapus angka&tanda baca\n",
        "#tweet_lower = tweet['Tweet'].str.lower()\n",
        "tweet_lower = removeNonWord(tweet['Tweet'].str.lower())"
      ],
      "metadata": {
        "id": "yEgwPmq32uQM"
      },
      "execution_count": null,
      "outputs": []
    },
    {
      "cell_type": "markdown",
      "source": [
        "Tokenizing"
      ],
      "metadata": {
        "id": "3eRjsHK12u9X"
      }
    },
    {
      "cell_type": "code",
      "source": [
        "#Tokenizing\n",
        "tweet_token = []\n",
        "\n",
        "for doc in tweet_lower :\n",
        "  tweet_token.append(word_tokenize(doc))"
      ],
      "metadata": {
        "id": "EtYRKEiq2zy7"
      },
      "execution_count": null,
      "outputs": []
    },
    {
      "cell_type": "code",
      "source": [
        "tweet_token"
      ],
      "metadata": {
        "id": "079chfRv4APV"
      },
      "execution_count": null,
      "outputs": []
    },
    {
      "cell_type": "markdown",
      "source": [
        "Normalisasi"
      ],
      "metadata": {
        "id": "IiFs6UCs3Fb9"
      }
    },
    {
      "cell_type": "code",
      "source": [
        "def normalization(tokens) :\n",
        "  kamus = {}\n",
        "  with open('Kamus.txt') as kamus_normalisasi :\n",
        "    for line in kamus_normalisasi :\n",
        "      (key, val) = line.split(\"\\t\")\n",
        "      kamus[key] = val\n",
        "  tweet_normalization = []\n",
        "  for word in tokens:\n",
        "    if word in kamus :\n",
        "      replace = kamus.get(word)\n",
        "      tweet_normalization.append(replace.strip())\n",
        "    else:\n",
        "      tweet_normalization.append(word)\n",
        "  return tweet_normalization"
      ],
      "metadata": {
        "id": "-3nng17S2_9f"
      },
      "execution_count": null,
      "outputs": []
    },
    {
      "cell_type": "code",
      "source": [
        "#Normalization\n",
        "tweet_norm = []\n",
        "\n",
        "for doc in tweet_token:\n",
        "  tweet_norm.append(normalization(doc))"
      ],
      "metadata": {
        "id": "EnzSs0iF3Lkl"
      },
      "execution_count": null,
      "outputs": []
    },
    {
      "cell_type": "code",
      "source": [
        "tweet_norm"
      ],
      "metadata": {
        "id": "6VfDnE614KMx"
      },
      "execution_count": null,
      "outputs": []
    },
    {
      "cell_type": "markdown",
      "source": [
        "Catatan : Salah satu tantangan dalam analisa text preprocessing menggunakan bhs indo adalah proses normalisasi kata harus detail, karena belum lengkap khususnya kata-kata spesifik kedaerahan, singkatan"
      ],
      "metadata": {
        "id": "KoTJTky9JzjQ"
      }
    },
    {
      "cell_type": "markdown",
      "source": [
        "Stopword Removal"
      ],
      "metadata": {
        "id": "Yblz-QC23SVN"
      }
    },
    {
      "cell_type": "code",
      "source": [
        "#Stopword Removal\n",
        "listStopword =  nltk.corpus.stopwords.words('indonesian')\n",
        "new_words=('besok','senin' , 'sekolah', 'kerja', 'tugas', 'kuliah')\n",
        "for i in new_words:\n",
        "    listStopword.append(i)\n",
        "\n",
        "tweet_remove = []\n",
        "temp_stop = ''\n",
        "for i in range(len(tweet_norm)):\n",
        "  for token in tweet_norm[i]:\n",
        "    if token not in listStopword:\n",
        "      temp_stop = temp_stop + token + ' '\n",
        "  tweet_remove.append(temp_stop)\n",
        "  temp_stop = ''"
      ],
      "metadata": {
        "id": "Pi9VVZhN3UWh"
      },
      "execution_count": null,
      "outputs": []
    },
    {
      "cell_type": "markdown",
      "source": [
        "kata : haha, wkwkwk = dihapus"
      ],
      "metadata": {
        "id": "6kRPkweBK0GR"
      }
    },
    {
      "cell_type": "code",
      "source": [
        "tweet_remove"
      ],
      "metadata": {
        "id": "eTfG4d5l4Z09"
      },
      "execution_count": null,
      "outputs": []
    },
    {
      "cell_type": "markdown",
      "source": [
        "Stemming"
      ],
      "metadata": {
        "id": "hEjQtO5G3lSE"
      }
    },
    {
      "cell_type": "code",
      "source": [
        "#Stemming\n",
        "from Sastrawi.Stemmer.StemmerFactory import StemmerFactory\n",
        "\n",
        "# create stemmer\n",
        "factory = StemmerFactory()\n",
        "stemmer = factory.create_stemmer()\n",
        "\n",
        "tweet_stemmed = [stemmer.stem(sentence) for sentence in tweet_remove]"
      ],
      "metadata": {
        "id": "Zjz0KgyZokiI"
      },
      "execution_count": null,
      "outputs": []
    },
    {
      "cell_type": "code",
      "source": [
        "tweet_stemmed"
      ],
      "metadata": {
        "id": "h4Dr0ac3q9Zv"
      },
      "execution_count": null,
      "outputs": []
    },
    {
      "cell_type": "code",
      "source": [
        "hasil = pd.DataFrame(tweet_stemmed)"
      ],
      "metadata": {
        "id": "E3QLfml0Gwk3"
      },
      "execution_count": null,
      "outputs": []
    },
    {
      "cell_type": "code",
      "source": [
        "hasil"
      ],
      "metadata": {
        "colab": {
          "base_uri": "https://localhost:8080/",
          "height": 424
        },
        "id": "93-JA4z1HB7Q",
        "outputId": "d01c24fb-6b42-481c-9f12-5854c7021db1"
      },
      "execution_count": null,
      "outputs": [
        {
          "output_type": "execute_result",
          "data": {
            "text/plain": [
              "                                                      0\n",
              "0                                          malas banget\n",
              "1     takut semenjak seram tidak tahu habis minggu t...\n",
              "2     teman semangat nya semangat nya semangat jalan...\n",
              "3     alhamdulillah syukur selagi keluh syukur kerja...\n",
              "4                                          libur hadeuh\n",
              "...                                                 ...\n",
              "2146  judul kelompok dikerjainnya orang si posisi si...\n",
              "2147                           kasi marahin guru mampus\n",
              "2148  malas ngadepin hidup teman bangsat blacklist t...\n",
              "2149  sayang goodbye to horizontal body semester sia...\n",
              "2150              nikmat libur ajak begadang disenyumin\n",
              "\n",
              "[2151 rows x 1 columns]"
            ],
            "text/html": [
              "\n",
              "  <div id=\"df-845dc031-4c13-4f47-8e6f-6ef449d02851\">\n",
              "    <div class=\"colab-df-container\">\n",
              "      <div>\n",
              "<style scoped>\n",
              "    .dataframe tbody tr th:only-of-type {\n",
              "        vertical-align: middle;\n",
              "    }\n",
              "\n",
              "    .dataframe tbody tr th {\n",
              "        vertical-align: top;\n",
              "    }\n",
              "\n",
              "    .dataframe thead th {\n",
              "        text-align: right;\n",
              "    }\n",
              "</style>\n",
              "<table border=\"1\" class=\"dataframe\">\n",
              "  <thead>\n",
              "    <tr style=\"text-align: right;\">\n",
              "      <th></th>\n",
              "      <th>0</th>\n",
              "    </tr>\n",
              "  </thead>\n",
              "  <tbody>\n",
              "    <tr>\n",
              "      <th>0</th>\n",
              "      <td>malas banget</td>\n",
              "    </tr>\n",
              "    <tr>\n",
              "      <th>1</th>\n",
              "      <td>takut semenjak seram tidak tahu habis minggu t...</td>\n",
              "    </tr>\n",
              "    <tr>\n",
              "      <th>2</th>\n",
              "      <td>teman semangat nya semangat nya semangat jalan...</td>\n",
              "    </tr>\n",
              "    <tr>\n",
              "      <th>3</th>\n",
              "      <td>alhamdulillah syukur selagi keluh syukur kerja...</td>\n",
              "    </tr>\n",
              "    <tr>\n",
              "      <th>4</th>\n",
              "      <td>libur hadeuh</td>\n",
              "    </tr>\n",
              "    <tr>\n",
              "      <th>...</th>\n",
              "      <td>...</td>\n",
              "    </tr>\n",
              "    <tr>\n",
              "      <th>2146</th>\n",
              "      <td>judul kelompok dikerjainnya orang si posisi si...</td>\n",
              "    </tr>\n",
              "    <tr>\n",
              "      <th>2147</th>\n",
              "      <td>kasi marahin guru mampus</td>\n",
              "    </tr>\n",
              "    <tr>\n",
              "      <th>2148</th>\n",
              "      <td>malas ngadepin hidup teman bangsat blacklist t...</td>\n",
              "    </tr>\n",
              "    <tr>\n",
              "      <th>2149</th>\n",
              "      <td>sayang goodbye to horizontal body semester sia...</td>\n",
              "    </tr>\n",
              "    <tr>\n",
              "      <th>2150</th>\n",
              "      <td>nikmat libur ajak begadang disenyumin</td>\n",
              "    </tr>\n",
              "  </tbody>\n",
              "</table>\n",
              "<p>2151 rows × 1 columns</p>\n",
              "</div>\n",
              "      <button class=\"colab-df-convert\" onclick=\"convertToInteractive('df-845dc031-4c13-4f47-8e6f-6ef449d02851')\"\n",
              "              title=\"Convert this dataframe to an interactive table.\"\n",
              "              style=\"display:none;\">\n",
              "        \n",
              "  <svg xmlns=\"http://www.w3.org/2000/svg\" height=\"24px\"viewBox=\"0 0 24 24\"\n",
              "       width=\"24px\">\n",
              "    <path d=\"M0 0h24v24H0V0z\" fill=\"none\"/>\n",
              "    <path d=\"M18.56 5.44l.94 2.06.94-2.06 2.06-.94-2.06-.94-.94-2.06-.94 2.06-2.06.94zm-11 1L8.5 8.5l.94-2.06 2.06-.94-2.06-.94L8.5 2.5l-.94 2.06-2.06.94zm10 10l.94 2.06.94-2.06 2.06-.94-2.06-.94-.94-2.06-.94 2.06-2.06.94z\"/><path d=\"M17.41 7.96l-1.37-1.37c-.4-.4-.92-.59-1.43-.59-.52 0-1.04.2-1.43.59L10.3 9.45l-7.72 7.72c-.78.78-.78 2.05 0 2.83L4 21.41c.39.39.9.59 1.41.59.51 0 1.02-.2 1.41-.59l7.78-7.78 2.81-2.81c.8-.78.8-2.07 0-2.86zM5.41 20L4 18.59l7.72-7.72 1.47 1.35L5.41 20z\"/>\n",
              "  </svg>\n",
              "      </button>\n",
              "      \n",
              "  <style>\n",
              "    .colab-df-container {\n",
              "      display:flex;\n",
              "      flex-wrap:wrap;\n",
              "      gap: 12px;\n",
              "    }\n",
              "\n",
              "    .colab-df-convert {\n",
              "      background-color: #E8F0FE;\n",
              "      border: none;\n",
              "      border-radius: 50%;\n",
              "      cursor: pointer;\n",
              "      display: none;\n",
              "      fill: #1967D2;\n",
              "      height: 32px;\n",
              "      padding: 0 0 0 0;\n",
              "      width: 32px;\n",
              "    }\n",
              "\n",
              "    .colab-df-convert:hover {\n",
              "      background-color: #E2EBFA;\n",
              "      box-shadow: 0px 1px 2px rgba(60, 64, 67, 0.3), 0px 1px 3px 1px rgba(60, 64, 67, 0.15);\n",
              "      fill: #174EA6;\n",
              "    }\n",
              "\n",
              "    [theme=dark] .colab-df-convert {\n",
              "      background-color: #3B4455;\n",
              "      fill: #D2E3FC;\n",
              "    }\n",
              "\n",
              "    [theme=dark] .colab-df-convert:hover {\n",
              "      background-color: #434B5C;\n",
              "      box-shadow: 0px 1px 3px 1px rgba(0, 0, 0, 0.15);\n",
              "      filter: drop-shadow(0px 1px 2px rgba(0, 0, 0, 0.3));\n",
              "      fill: #FFFFFF;\n",
              "    }\n",
              "  </style>\n",
              "\n",
              "      <script>\n",
              "        const buttonEl =\n",
              "          document.querySelector('#df-845dc031-4c13-4f47-8e6f-6ef449d02851 button.colab-df-convert');\n",
              "        buttonEl.style.display =\n",
              "          google.colab.kernel.accessAllowed ? 'block' : 'none';\n",
              "\n",
              "        async function convertToInteractive(key) {\n",
              "          const element = document.querySelector('#df-845dc031-4c13-4f47-8e6f-6ef449d02851');\n",
              "          const dataTable =\n",
              "            await google.colab.kernel.invokeFunction('convertToInteractive',\n",
              "                                                     [key], {});\n",
              "          if (!dataTable) return;\n",
              "\n",
              "          const docLinkHtml = 'Like what you see? Visit the ' +\n",
              "            '<a target=\"_blank\" href=https://colab.research.google.com/notebooks/data_table.ipynb>data table notebook</a>'\n",
              "            + ' to learn more about interactive tables.';\n",
              "          element.innerHTML = '';\n",
              "          dataTable['output_type'] = 'display_data';\n",
              "          await google.colab.output.renderOutput(dataTable, element);\n",
              "          const docLink = document.createElement('div');\n",
              "          docLink.innerHTML = docLinkHtml;\n",
              "          element.appendChild(docLink);\n",
              "        }\n",
              "      </script>\n",
              "    </div>\n",
              "  </div>\n",
              "  "
            ]
          },
          "metadata": {},
          "execution_count": 35
        }
      ]
    },
    {
      "cell_type": "code",
      "source": [
        "hasil.set_axis(['Tweet'], axis='columns', inplace=True)"
      ],
      "metadata": {
        "id": "tZovnPo8G6Sg"
      },
      "execution_count": null,
      "outputs": []
    },
    {
      "cell_type": "code",
      "source": [
        "hasil"
      ],
      "metadata": {
        "colab": {
          "base_uri": "https://localhost:8080/",
          "height": 424
        },
        "id": "aLDtSotpHWKC",
        "outputId": "0db94fa1-6144-4685-9934-ee7bdab54ca6"
      },
      "execution_count": null,
      "outputs": [
        {
          "output_type": "execute_result",
          "data": {
            "text/plain": [
              "                                                  Tweet\n",
              "0                                          malas banget\n",
              "1     takut semenjak seram tidak tahu habis minggu t...\n",
              "2     teman semangat nya semangat nya semangat jalan...\n",
              "3     alhamdulillah syukur selagi keluh syukur kerja...\n",
              "4                                          libur hadeuh\n",
              "...                                                 ...\n",
              "2146  judul kelompok dikerjainnya orang si posisi si...\n",
              "2147                           kasi marahin guru mampus\n",
              "2148  malas ngadepin hidup teman bangsat blacklist t...\n",
              "2149  sayang goodbye to horizontal body semester sia...\n",
              "2150              nikmat libur ajak begadang disenyumin\n",
              "\n",
              "[2151 rows x 1 columns]"
            ],
            "text/html": [
              "\n",
              "  <div id=\"df-3042e1e9-e208-48d3-929a-9ee65368a920\">\n",
              "    <div class=\"colab-df-container\">\n",
              "      <div>\n",
              "<style scoped>\n",
              "    .dataframe tbody tr th:only-of-type {\n",
              "        vertical-align: middle;\n",
              "    }\n",
              "\n",
              "    .dataframe tbody tr th {\n",
              "        vertical-align: top;\n",
              "    }\n",
              "\n",
              "    .dataframe thead th {\n",
              "        text-align: right;\n",
              "    }\n",
              "</style>\n",
              "<table border=\"1\" class=\"dataframe\">\n",
              "  <thead>\n",
              "    <tr style=\"text-align: right;\">\n",
              "      <th></th>\n",
              "      <th>Tweet</th>\n",
              "    </tr>\n",
              "  </thead>\n",
              "  <tbody>\n",
              "    <tr>\n",
              "      <th>0</th>\n",
              "      <td>malas banget</td>\n",
              "    </tr>\n",
              "    <tr>\n",
              "      <th>1</th>\n",
              "      <td>takut semenjak seram tidak tahu habis minggu t...</td>\n",
              "    </tr>\n",
              "    <tr>\n",
              "      <th>2</th>\n",
              "      <td>teman semangat nya semangat nya semangat jalan...</td>\n",
              "    </tr>\n",
              "    <tr>\n",
              "      <th>3</th>\n",
              "      <td>alhamdulillah syukur selagi keluh syukur kerja...</td>\n",
              "    </tr>\n",
              "    <tr>\n",
              "      <th>4</th>\n",
              "      <td>libur hadeuh</td>\n",
              "    </tr>\n",
              "    <tr>\n",
              "      <th>...</th>\n",
              "      <td>...</td>\n",
              "    </tr>\n",
              "    <tr>\n",
              "      <th>2146</th>\n",
              "      <td>judul kelompok dikerjainnya orang si posisi si...</td>\n",
              "    </tr>\n",
              "    <tr>\n",
              "      <th>2147</th>\n",
              "      <td>kasi marahin guru mampus</td>\n",
              "    </tr>\n",
              "    <tr>\n",
              "      <th>2148</th>\n",
              "      <td>malas ngadepin hidup teman bangsat blacklist t...</td>\n",
              "    </tr>\n",
              "    <tr>\n",
              "      <th>2149</th>\n",
              "      <td>sayang goodbye to horizontal body semester sia...</td>\n",
              "    </tr>\n",
              "    <tr>\n",
              "      <th>2150</th>\n",
              "      <td>nikmat libur ajak begadang disenyumin</td>\n",
              "    </tr>\n",
              "  </tbody>\n",
              "</table>\n",
              "<p>2151 rows × 1 columns</p>\n",
              "</div>\n",
              "      <button class=\"colab-df-convert\" onclick=\"convertToInteractive('df-3042e1e9-e208-48d3-929a-9ee65368a920')\"\n",
              "              title=\"Convert this dataframe to an interactive table.\"\n",
              "              style=\"display:none;\">\n",
              "        \n",
              "  <svg xmlns=\"http://www.w3.org/2000/svg\" height=\"24px\"viewBox=\"0 0 24 24\"\n",
              "       width=\"24px\">\n",
              "    <path d=\"M0 0h24v24H0V0z\" fill=\"none\"/>\n",
              "    <path d=\"M18.56 5.44l.94 2.06.94-2.06 2.06-.94-2.06-.94-.94-2.06-.94 2.06-2.06.94zm-11 1L8.5 8.5l.94-2.06 2.06-.94-2.06-.94L8.5 2.5l-.94 2.06-2.06.94zm10 10l.94 2.06.94-2.06 2.06-.94-2.06-.94-.94-2.06-.94 2.06-2.06.94z\"/><path d=\"M17.41 7.96l-1.37-1.37c-.4-.4-.92-.59-1.43-.59-.52 0-1.04.2-1.43.59L10.3 9.45l-7.72 7.72c-.78.78-.78 2.05 0 2.83L4 21.41c.39.39.9.59 1.41.59.51 0 1.02-.2 1.41-.59l7.78-7.78 2.81-2.81c.8-.78.8-2.07 0-2.86zM5.41 20L4 18.59l7.72-7.72 1.47 1.35L5.41 20z\"/>\n",
              "  </svg>\n",
              "      </button>\n",
              "      \n",
              "  <style>\n",
              "    .colab-df-container {\n",
              "      display:flex;\n",
              "      flex-wrap:wrap;\n",
              "      gap: 12px;\n",
              "    }\n",
              "\n",
              "    .colab-df-convert {\n",
              "      background-color: #E8F0FE;\n",
              "      border: none;\n",
              "      border-radius: 50%;\n",
              "      cursor: pointer;\n",
              "      display: none;\n",
              "      fill: #1967D2;\n",
              "      height: 32px;\n",
              "      padding: 0 0 0 0;\n",
              "      width: 32px;\n",
              "    }\n",
              "\n",
              "    .colab-df-convert:hover {\n",
              "      background-color: #E2EBFA;\n",
              "      box-shadow: 0px 1px 2px rgba(60, 64, 67, 0.3), 0px 1px 3px 1px rgba(60, 64, 67, 0.15);\n",
              "      fill: #174EA6;\n",
              "    }\n",
              "\n",
              "    [theme=dark] .colab-df-convert {\n",
              "      background-color: #3B4455;\n",
              "      fill: #D2E3FC;\n",
              "    }\n",
              "\n",
              "    [theme=dark] .colab-df-convert:hover {\n",
              "      background-color: #434B5C;\n",
              "      box-shadow: 0px 1px 3px 1px rgba(0, 0, 0, 0.15);\n",
              "      filter: drop-shadow(0px 1px 2px rgba(0, 0, 0, 0.3));\n",
              "      fill: #FFFFFF;\n",
              "    }\n",
              "  </style>\n",
              "\n",
              "      <script>\n",
              "        const buttonEl =\n",
              "          document.querySelector('#df-3042e1e9-e208-48d3-929a-9ee65368a920 button.colab-df-convert');\n",
              "        buttonEl.style.display =\n",
              "          google.colab.kernel.accessAllowed ? 'block' : 'none';\n",
              "\n",
              "        async function convertToInteractive(key) {\n",
              "          const element = document.querySelector('#df-3042e1e9-e208-48d3-929a-9ee65368a920');\n",
              "          const dataTable =\n",
              "            await google.colab.kernel.invokeFunction('convertToInteractive',\n",
              "                                                     [key], {});\n",
              "          if (!dataTable) return;\n",
              "\n",
              "          const docLinkHtml = 'Like what you see? Visit the ' +\n",
              "            '<a target=\"_blank\" href=https://colab.research.google.com/notebooks/data_table.ipynb>data table notebook</a>'\n",
              "            + ' to learn more about interactive tables.';\n",
              "          element.innerHTML = '';\n",
              "          dataTable['output_type'] = 'display_data';\n",
              "          await google.colab.output.renderOutput(dataTable, element);\n",
              "          const docLink = document.createElement('div');\n",
              "          docLink.innerHTML = docLinkHtml;\n",
              "          element.appendChild(docLink);\n",
              "        }\n",
              "      </script>\n",
              "    </div>\n",
              "  </div>\n",
              "  "
            ]
          },
          "metadata": {},
          "execution_count": 37
        }
      ]
    },
    {
      "cell_type": "code",
      "source": [
        "pip install contractions"
      ],
      "metadata": {
        "id": "L_GZI4v0Hlp4"
      },
      "execution_count": null,
      "outputs": []
    },
    {
      "cell_type": "code",
      "source": [
        "import contractions"
      ],
      "metadata": {
        "id": "PLaHzBuKHySt"
      },
      "execution_count": null,
      "outputs": []
    },
    {
      "cell_type": "code",
      "source": [
        "hasil['Data'] = hasil['Tweet'].apply(lambda x: [contractions.fix(word) for word in x.split()])\n",
        "hasil"
      ],
      "metadata": {
        "colab": {
          "base_uri": "https://localhost:8080/",
          "height": 424
        },
        "id": "j4zgT62ZHcYD",
        "outputId": "9e0f3da0-5410-4db2-e681-69e68ee71c3d"
      },
      "execution_count": null,
      "outputs": [
        {
          "output_type": "execute_result",
          "data": {
            "text/plain": [
              "                                                  Tweet  \\\n",
              "0                                          malas banget   \n",
              "1     takut semenjak seram tidak tahu habis minggu t...   \n",
              "2     teman semangat nya semangat nya semangat jalan...   \n",
              "3     alhamdulillah syukur selagi keluh syukur kerja...   \n",
              "4                                          libur hadeuh   \n",
              "...                                                 ...   \n",
              "2146  judul kelompok dikerjainnya orang si posisi si...   \n",
              "2147                           kasi marahin guru mampus   \n",
              "2148  malas ngadepin hidup teman bangsat blacklist t...   \n",
              "2149  sayang goodbye to horizontal body semester sia...   \n",
              "2150              nikmat libur ajak begadang disenyumin   \n",
              "\n",
              "                                                   Data  \n",
              "0                                       [malas, banget]  \n",
              "1     [takut, semenjak, seram, tidak, tahu, habis, m...  \n",
              "2     [teman, semangat, nya, semangat, nya, semangat...  \n",
              "3     [alhamdulillah, syukur, selagi, keluh, syukur,...  \n",
              "4                                       [libur, hadeuh]  \n",
              "...                                                 ...  \n",
              "2146  [judul, kelompok, dikerjainnya, orang, si, pos...  \n",
              "2147                      [kasi, marahin, guru, mampus]  \n",
              "2148  [malas, ngadepin, hidup, teman, bangsat, black...  \n",
              "2149  [sayang, goodbye, to, horizontal, body, semest...  \n",
              "2150        [nikmat, libur, ajak, begadang, disenyumin]  \n",
              "\n",
              "[2151 rows x 2 columns]"
            ],
            "text/html": [
              "\n",
              "  <div id=\"df-c53fdca4-2635-405f-b4c5-e3c081113452\">\n",
              "    <div class=\"colab-df-container\">\n",
              "      <div>\n",
              "<style scoped>\n",
              "    .dataframe tbody tr th:only-of-type {\n",
              "        vertical-align: middle;\n",
              "    }\n",
              "\n",
              "    .dataframe tbody tr th {\n",
              "        vertical-align: top;\n",
              "    }\n",
              "\n",
              "    .dataframe thead th {\n",
              "        text-align: right;\n",
              "    }\n",
              "</style>\n",
              "<table border=\"1\" class=\"dataframe\">\n",
              "  <thead>\n",
              "    <tr style=\"text-align: right;\">\n",
              "      <th></th>\n",
              "      <th>Tweet</th>\n",
              "      <th>Data</th>\n",
              "    </tr>\n",
              "  </thead>\n",
              "  <tbody>\n",
              "    <tr>\n",
              "      <th>0</th>\n",
              "      <td>malas banget</td>\n",
              "      <td>[malas, banget]</td>\n",
              "    </tr>\n",
              "    <tr>\n",
              "      <th>1</th>\n",
              "      <td>takut semenjak seram tidak tahu habis minggu t...</td>\n",
              "      <td>[takut, semenjak, seram, tidak, tahu, habis, m...</td>\n",
              "    </tr>\n",
              "    <tr>\n",
              "      <th>2</th>\n",
              "      <td>teman semangat nya semangat nya semangat jalan...</td>\n",
              "      <td>[teman, semangat, nya, semangat, nya, semangat...</td>\n",
              "    </tr>\n",
              "    <tr>\n",
              "      <th>3</th>\n",
              "      <td>alhamdulillah syukur selagi keluh syukur kerja...</td>\n",
              "      <td>[alhamdulillah, syukur, selagi, keluh, syukur,...</td>\n",
              "    </tr>\n",
              "    <tr>\n",
              "      <th>4</th>\n",
              "      <td>libur hadeuh</td>\n",
              "      <td>[libur, hadeuh]</td>\n",
              "    </tr>\n",
              "    <tr>\n",
              "      <th>...</th>\n",
              "      <td>...</td>\n",
              "      <td>...</td>\n",
              "    </tr>\n",
              "    <tr>\n",
              "      <th>2146</th>\n",
              "      <td>judul kelompok dikerjainnya orang si posisi si...</td>\n",
              "      <td>[judul, kelompok, dikerjainnya, orang, si, pos...</td>\n",
              "    </tr>\n",
              "    <tr>\n",
              "      <th>2147</th>\n",
              "      <td>kasi marahin guru mampus</td>\n",
              "      <td>[kasi, marahin, guru, mampus]</td>\n",
              "    </tr>\n",
              "    <tr>\n",
              "      <th>2148</th>\n",
              "      <td>malas ngadepin hidup teman bangsat blacklist t...</td>\n",
              "      <td>[malas, ngadepin, hidup, teman, bangsat, black...</td>\n",
              "    </tr>\n",
              "    <tr>\n",
              "      <th>2149</th>\n",
              "      <td>sayang goodbye to horizontal body semester sia...</td>\n",
              "      <td>[sayang, goodbye, to, horizontal, body, semest...</td>\n",
              "    </tr>\n",
              "    <tr>\n",
              "      <th>2150</th>\n",
              "      <td>nikmat libur ajak begadang disenyumin</td>\n",
              "      <td>[nikmat, libur, ajak, begadang, disenyumin]</td>\n",
              "    </tr>\n",
              "  </tbody>\n",
              "</table>\n",
              "<p>2151 rows × 2 columns</p>\n",
              "</div>\n",
              "      <button class=\"colab-df-convert\" onclick=\"convertToInteractive('df-c53fdca4-2635-405f-b4c5-e3c081113452')\"\n",
              "              title=\"Convert this dataframe to an interactive table.\"\n",
              "              style=\"display:none;\">\n",
              "        \n",
              "  <svg xmlns=\"http://www.w3.org/2000/svg\" height=\"24px\"viewBox=\"0 0 24 24\"\n",
              "       width=\"24px\">\n",
              "    <path d=\"M0 0h24v24H0V0z\" fill=\"none\"/>\n",
              "    <path d=\"M18.56 5.44l.94 2.06.94-2.06 2.06-.94-2.06-.94-.94-2.06-.94 2.06-2.06.94zm-11 1L8.5 8.5l.94-2.06 2.06-.94-2.06-.94L8.5 2.5l-.94 2.06-2.06.94zm10 10l.94 2.06.94-2.06 2.06-.94-2.06-.94-.94-2.06-.94 2.06-2.06.94z\"/><path d=\"M17.41 7.96l-1.37-1.37c-.4-.4-.92-.59-1.43-.59-.52 0-1.04.2-1.43.59L10.3 9.45l-7.72 7.72c-.78.78-.78 2.05 0 2.83L4 21.41c.39.39.9.59 1.41.59.51 0 1.02-.2 1.41-.59l7.78-7.78 2.81-2.81c.8-.78.8-2.07 0-2.86zM5.41 20L4 18.59l7.72-7.72 1.47 1.35L5.41 20z\"/>\n",
              "  </svg>\n",
              "      </button>\n",
              "      \n",
              "  <style>\n",
              "    .colab-df-container {\n",
              "      display:flex;\n",
              "      flex-wrap:wrap;\n",
              "      gap: 12px;\n",
              "    }\n",
              "\n",
              "    .colab-df-convert {\n",
              "      background-color: #E8F0FE;\n",
              "      border: none;\n",
              "      border-radius: 50%;\n",
              "      cursor: pointer;\n",
              "      display: none;\n",
              "      fill: #1967D2;\n",
              "      height: 32px;\n",
              "      padding: 0 0 0 0;\n",
              "      width: 32px;\n",
              "    }\n",
              "\n",
              "    .colab-df-convert:hover {\n",
              "      background-color: #E2EBFA;\n",
              "      box-shadow: 0px 1px 2px rgba(60, 64, 67, 0.3), 0px 1px 3px 1px rgba(60, 64, 67, 0.15);\n",
              "      fill: #174EA6;\n",
              "    }\n",
              "\n",
              "    [theme=dark] .colab-df-convert {\n",
              "      background-color: #3B4455;\n",
              "      fill: #D2E3FC;\n",
              "    }\n",
              "\n",
              "    [theme=dark] .colab-df-convert:hover {\n",
              "      background-color: #434B5C;\n",
              "      box-shadow: 0px 1px 3px 1px rgba(0, 0, 0, 0.15);\n",
              "      filter: drop-shadow(0px 1px 2px rgba(0, 0, 0, 0.3));\n",
              "      fill: #FFFFFF;\n",
              "    }\n",
              "  </style>\n",
              "\n",
              "      <script>\n",
              "        const buttonEl =\n",
              "          document.querySelector('#df-c53fdca4-2635-405f-b4c5-e3c081113452 button.colab-df-convert');\n",
              "        buttonEl.style.display =\n",
              "          google.colab.kernel.accessAllowed ? 'block' : 'none';\n",
              "\n",
              "        async function convertToInteractive(key) {\n",
              "          const element = document.querySelector('#df-c53fdca4-2635-405f-b4c5-e3c081113452');\n",
              "          const dataTable =\n",
              "            await google.colab.kernel.invokeFunction('convertToInteractive',\n",
              "                                                     [key], {});\n",
              "          if (!dataTable) return;\n",
              "\n",
              "          const docLinkHtml = 'Like what you see? Visit the ' +\n",
              "            '<a target=\"_blank\" href=https://colab.research.google.com/notebooks/data_table.ipynb>data table notebook</a>'\n",
              "            + ' to learn more about interactive tables.';\n",
              "          element.innerHTML = '';\n",
              "          dataTable['output_type'] = 'display_data';\n",
              "          await google.colab.output.renderOutput(dataTable, element);\n",
              "          const docLink = document.createElement('div');\n",
              "          docLink.innerHTML = docLinkHtml;\n",
              "          element.appendChild(docLink);\n",
              "        }\n",
              "      </script>\n",
              "    </div>\n",
              "  </div>\n",
              "  "
            ]
          },
          "metadata": {},
          "execution_count": 47
        }
      ]
    },
    {
      "cell_type": "code",
      "source": [
        "hasil['Data'].to_excel('Hasil Preprocessing.xlsx', index=False)"
      ],
      "metadata": {
        "id": "iXPL7Jm1ICgR"
      },
      "execution_count": null,
      "outputs": []
    }
  ]
}